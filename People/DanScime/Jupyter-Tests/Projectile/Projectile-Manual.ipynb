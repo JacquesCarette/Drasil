{
 "cells": [
  {
   "cell_type": "markdown",
   "metadata": {},
   "source": [
    "<h1>Software Requirements Specification for Projectile</h1>"
   ]
  },
  {
   "cell_type": "markdown",
   "metadata": {},
   "source": [
    "<h2>Samuel J. Crawford, Brooks MacLachlan, and W. Spencer Smith</h2>"
   ]
  },
  {
   "cell_type": "markdown",
   "metadata": {},
   "source": [
    "<div id=\"Sec:RefMat\">\n",
    "<h1>Reference Material</h1>\n",
    "</div>"
   ]
  },
  {
   "cell_type": "markdown",
   "metadata": {},
   "source": [
    "This section records information for easy reference."
   ]
  },
  {
   "cell_type": "markdown",
   "metadata": {},
   "source": [
    "<div id=\"Sec:ToU\">\n",
    "<h2>Table of Units</h2>\n",
    "</div>"
   ]
  },
  {
   "cell_type": "markdown",
   "metadata": {},
   "source": [
    "The unit system used throughout is SI (Système International d'Unités). In addition to the basic units, several derived units are also used. For each unit, <a href=#Table:ToU>Tab: ToU</a> lists the symbol, a description and the SI name."
   ]
  },
  {
   "cell_type": "markdown",
   "metadata": {},
   "source": [
    "|<div id=\"Table:ToU\"></div> Symbol|Description|SI Name|\n",
    "|:--- |:--- |:--- |\n",
    "|m|length|metre|\n",
    "|rad|angle|radian|\n",
    "|s|time|second|\n"
   ]
  },
  {
   "cell_type": "markdown",
   "metadata": {},
   "source": [
    "<div id=\"Sec:ToS\">\n",
    "<h2>Table of Symbols</h2>\n",
    "</div>"
   ]
  },
  {
   "cell_type": "markdown",
   "metadata": {},
   "source": [
    "The symbols used in this document are summarized in <a href=#Table:ToS>Tab: ToS</a> along with their units. Throughout the document, symbols in bold will represent vectors, and scalars otherwise. The symbols are listed in alphabetical order. For vector quantities, the units shown are for each component of the vector."
   ]
  },
  {
   "cell_type": "markdown",
   "metadata": {},
   "source": [
    "|<div id=\"Table:ToS\"></div> Symbol|Description|Units|\n",
    "|:--- |:--- |:--- |\n",
    "|$a$|Scalar acceleration|$\\frac{\\text{m}}{\\text{s}^{2}}$|\n",
    "|<em>a<sup>c</sup></em>|Constant acceleration|m/s<sup>2</sup>|\n",
    "|<em>a<sub>x</sub></em>|<em>x</em>-component of acceleration|m/s<sup>2</sup>|\n",
    "|${a_{x}^{c}}$|$x$-component of acceleration|$\\frac{\\text{m}}{\\text{s}^{2}}$|\n",
    "|ay|y-component of acceleration|m/s2|\n",
    "|<em>a<sub>y</sub><sup>c</sup></em>|y-component of constant acceleration|m/s2|\n",
    "|a|Acceleration|m/s2|\n",
    "|ac|Constant acceleration vector|m/s2|\n",
    "|doffset|Distance between the target position and the landing position|m|\n",
    "|g|Gravitational acceleration|m/s2|\n",
    "|p|Scalar position|m|\n",
    "|pi|Initial position|m|\n",
    "|pland|Landing position|m|\n",
    "|ptarget|Target position|m|\n",
    "|px|x-component of position|m|\n",
    "|pxi|x-component of initial position|m|\n",
    "|py|y-component of position|m|\n",
    "|pyi|y-component of initial position|m|\n",
    "|p|Position|m|\n",
    "|s|Output message as a string|--|\n",
    "|t|Time|s|\n",
    "|tflight|Flight duration|s|\n",
    "|v|Speed|m/s|\n",
    "|vi|Initial speed|m/s|\n",
    "|vlaunch|Launch speed|m/s|\n",
    "|vx|x-component of velocity|m/s|\n",
    "|vxi|x-component of initial velocity|m/s|\n",
    "|vy|y-component of velocity|m/s|\n",
    "|vyi|y-component of initial velocity|m/s|\n",
    "|v|Velocity|m/s|\n",
    "|vi|Initial velocity|m/s|\n",
    "|ε|Hit tolerance|--|\n",
    "|θ|Launch angle|rad|\n",
    "|π|Ratio of circumference to diameter for any circle|--|\n"
   ]
  },
  {
   "cell_type": "markdown",
   "metadata": {},
   "source": [
    "<div id=\"Sec:TAbbAcc\">\n",
    "<h2>Abbreviations and Acronyms</h2>\n",
    "</div>"
   ]
  },
  {
   "cell_type": "markdown",
   "metadata": {},
   "source": [
    "|<div id=\"Table:TAbbAcc\"></div> Abbreviation|Full Form|\n",
    "|:--- |:--- |\n",
    "|1D|One-Dimensional|\n",
    "|2D|Two-Dimensional|\n",
    "|A|Assumption|\n",
    "|DD|Data Definition|\n",
    "|GD|General Definition|\n",
    "|GS|Goal Statement|\n",
    "|IM|Instance Model|\n",
    "|PS|Physical System Description|\n",
    "|R|Requirement|\n",
    "|SRS|Software Requirements Specification|\n",
    "|TM|Theoretical Model|\n",
    "|Uncert.|Typical Uncertainty|"
   ]
  },
  {
   "cell_type": "markdown",
   "metadata": {},
   "source": [
    "<div id=\"Sec:Intro\">\n",
    "<h1>Introduction</h1>\n",
    "</div>"
   ]
  },
  {
   "cell_type": "markdown",
   "metadata": {},
   "source": [
    "Projectile motion is a common problem in physics. Therefore, it is useful to have a program to solve and model these types of problems. The program documented here is called Projectile."
   ]
  },
  {
   "cell_type": "markdown",
   "metadata": {},
   "source": [
    "The following section provides an overview of the Software Requirements Specification (SRS) for Projectile. This section explains the purpose of this document, the scope of the system, the characteristics of the intended reader, and the organization of the document."
   ]
  },
  {
   "cell_type": "markdown",
   "metadata": {},
   "source": [
    "<div id=\"Sec:ReqsScope\">\n",
    "<h2>Scope of Requirements</h2>\n",
    "</div>"
   ]
  },
  {
   "cell_type": "markdown",
   "metadata": {},
   "source": [
    "The scope of the requirements includes the analysis of a two-dimensional (2D) projectile motion problem with constant acceleration. Given the appropriate inputs, Projectile determines if the projectile hits the target."
   ]
  },
  {
   "cell_type": "markdown",
   "metadata": {},
   "source": [
    "<div id=\"Sec:SpecSystDesc\">\n",
    "<h1>Specific System Description</h1>\n",
    "</div>"
   ]
  },
  {
   "cell_type": "markdown",
   "metadata": {},
   "source": [
    "This section first presents the problem description, which gives a high-level view of the problem to be solved. This is followed by the solution characteristics specification, which presents the assumptions, theories, and definitions that are used."
   ]
  },
  {
   "cell_type": "markdown",
   "metadata": {},
   "source": [
    "<div id=\"Sec:ProbDesc\">\n",
    "<h2>Problem Description</h2>\n",
    "</div>"
   ]
  },
  {
   "cell_type": "markdown",
   "metadata": {},
   "source": [
    "A system is needed to efficiently and correctly predict the landing position of a projectile."
   ]
  },
  {
   "cell_type": "markdown",
   "metadata": {},
   "source": [
    "<div id=\"Sec:TermDefs\">\n",
    "<h3>Terminology and Definitions</h3>\n",
    "</div>"
   ]
  },
  {
   "cell_type": "markdown",
   "metadata": {},
   "source": [
    "This subsection provides a list of terms that are used in the subsequent sections and their meaning, with the purpose of reducing ambiguity and making it easier to correctly understand the requirements."
   ]
  },
  {
   "cell_type": "markdown",
   "metadata": {},
   "source": [
    "* Launcher: Where the projectile is launched from and the device that does the launching.\n",
    "* Projectile: The object to be launched at the target.\n",
    "* Target: Where the projectile should be launched to.\n",
    "* Gravity: The force that attracts one physical body with mass to another.\n",
    "* Cartesian coordinate system: A coordinate system that specifies each point uniquely in a plane by a set of numerical coordinates, which are the signed distances to the point from two fixed perpendicular oriented lines, measured in the same unit of length (from <a href=#cartesianWiki>cartesianWiki</a>).\n",
    "* Rectilinear: Occuring in one dimension."
   ]
  },
  {
   "cell_type": "markdown",
   "metadata": {},
   "source": [
    "<div id=\"Sec:PhysSyst\">\n",
    "<h3>Physical System Description</h3>\n",
    "</div>"
   ]
  },
  {
   "cell_type": "markdown",
   "metadata": {},
   "source": [
    "The physical system of Projectile, as shown in <a href=#Figure:Launch>Fig:Launch</a>, includes the following elements:"
   ]
  },
  {
   "cell_type": "markdown",
   "metadata": {},
   "source": [
    "PS1: The launcher."
   ]
  },
  {
   "cell_type": "markdown",
   "metadata": {},
   "source": [
    "PS2: The projectile (with initial velocity <em><b>v</b><sup>i</sup></em> and launch angle <em>θ</em>)."
   ]
  },
  {
   "cell_type": "markdown",
   "metadata": {},
   "source": [
    "PS3: The target."
   ]
  },
  {
   "cell_type": "markdown",
   "metadata": {},
   "source": [
    "<div id=\"Figure:Launch\" align=\"center\">\n",
    "<img src=\"Launch.jpg\" alt=\"The physical system\" width=\"70.0%\">\n",
    "<b>The physical system</b>\n",
    "</div>"
   ]
  },
  {
   "cell_type": "markdown",
   "metadata": {},
   "source": [
    "<div id=\"Sec:GoalStmt\">\n",
    "<h3>Goal Statements</h3>\n",
    "</div>"
   ]
  },
  {
   "cell_type": "markdown",
   "metadata": {},
   "source": [
    "Given the initial velocity vector of the projectile, the goal statements are:"
   ]
  },
  {
   "cell_type": "markdown",
   "metadata": {},
   "source": [
    "<div id=\"targetHit\">\n",
    "targetHit: Determine if the projectile hits the target.\n",
    "</div>"
   ]
  },
  {
   "cell_type": "markdown",
   "metadata": {},
   "source": [
    "<div id=\"Sec:SolCharSpec\">\n",
    "<h2>Solution Characteristics Specification</h2>\n",
    "</div>"
   ]
  },
  {
   "cell_type": "markdown",
   "metadata": {},
   "source": [
    "The instance models that govern Projectile are presented in <a href=#Sec:IMs>Section: Instance Models</a>. The information to understand the meaning of the instance models and their derivation is also presented, so that the instance models can be verified."
   ]
  },
  {
   "cell_type": "markdown",
   "metadata": {},
   "source": [
    "<div id=\"Sec:Assumps\">\n",
    "<h3>Assumptions</h3>\n",
    "</div>"
   ]
  },
  {
   "cell_type": "markdown",
   "metadata": {},
   "source": [
    "This section simplifies the original problem and helps in developing the theoretical models by filling in the missing information for the physical system. The assumptions refine the scope by providing more detail."
   ]
  },
  {
   "cell_type": "markdown",
   "metadata": {},
   "source": [
    "<div id=\"twoDMotion\">\n",
    "twoDMotion: The projectile motion is two-dimensional (2D). (RefBy: <a href=#GD:velVec>GD: velVec</a> and <a href=#GD:posVec>GD: posVec</a>.)\n",
    "</div>"
   ]
  },
  {
   "cell_type": "markdown",
   "metadata": {},
   "source": [
    "<div id=\"cartSyst\">\n",
    "cartSyst: A Cartesian coordinate system is used (from <a href=#neglectCurv>A: neglectCurv</a>). (RefBy: <a href=#GD:velVec>GD: velVec</a> and <a href=#GD:posVec>GD: posVec</a>.)\n",
    "</div>"
   ]
  },
  {
   "cell_type": "markdown",
   "metadata": {},
   "source": [
    "<div id=\"yAxisGravity\">\n",
    "yAxisGravity: The direction of the <em>y</em>-axis is directed opposite to gravity. (RefBy: <a href=#IM:calOfLandingTime>IM: calOfLandingTime</a>, <a href=#IM:calOfLandingDist>IM: calOfLandingDist</a>, and <a href=#accelYGravity>A: accelYGravity</a>.)\n",
    "</div>"
   ]
  },
  {
   "cell_type": "markdown",
   "metadata": {},
   "source": [
    "<div id=\"launchOrigin\">\n",
    "launchOrigin: The launcher is coincident with the origin. (RefBy: <a href=#IM:calOfLandingTime>IM: calOfLandingTime</a> and <a href=#IM:calOfLandingDist>IM: calOfLandingDist</a>.)\n",
    "</div>"
   ]
  },
  {
   "cell_type": "markdown",
   "metadata": {},
   "source": [
    "<div id=\"targetXAxis\">\n",
    "targetXAxis: The target lies on the <em>x</em>-axis (from <a href=#neglectCurv>A: neglectCurv</a>). (RefBy: <a href=#IM:calOfLandingTime>IM: calOfLandingTime</a>.)\n",
    "</div>"
   ]
  },
  {
   "cell_type": "markdown",
   "metadata": {},
   "source": [
    "<div id=\"posXDirection\">\n",
    "posXDirection: The positive <em>x</em>-direction is from the launcher to the target. (RefBy: <a href=#IM:calOfLandingTime>IM: calOfLandingTime</a>, <a href=#IM:offsetIM>IM: offsetIM</a>, <a href=#IM:messageIM>IM: messageIM</a>, and <a href=#IM:calOfLandingDist>IM: calOfLandingDist</a>.)\n",
    "</div>"
   ]
  },
  {
   "cell_type": "markdown",
   "metadata": {},
   "source": [
    "<div id=\"constAccel\">\n",
    "constAccel: The acceleration is constant (from <a href=#accelXZero>A: accelXZero</a>, <a href=#accelYGravity>A: accelYGravity</a>, <a href=#neglectDrag>A: neglectDrag</a>, and <a href=#freeFlight>A: freeFlight</a>). (RefBy: <a href=#GD:velVec>GD: velVec</a> and <a href=#GD:posVec>GD: posVec</a>.)\n",
    "</div>"
   ]
  },
  {
   "cell_type": "markdown",
   "metadata": {},
   "source": [
    "<div id=\"accelXZero\">\n",
    "accelXZero: The acceleration in the <em>x</em>-direction is zero. (RefBy: <a href=#IM:calOfLandingDist>IM: calOfLandingDist</a> and <a href=#constAccel>A: constAccel</a>.)\n",
    "</div>"
   ]
  },
  {
   "cell_type": "markdown",
   "metadata": {},
   "source": [
    "<div id=\"accelYGravity\">\n",
    "accelYGravity: The acceleration in the <em>y</em>-direction is the acceleration due to gravity (from <a href=#yAxisGravity>A: yAxisGravity</a>). (RefBy: <a href=#IM:calOfLandingTime>IM: calOfLandingTime</a> and <a href=#constAccel>A: constAccel</a>.)\n",
    "</div>"
   ]
  },
  {
   "cell_type": "markdown",
   "metadata": {},
   "source": [
    "<div id=\"neglectDrag\">\n",
    "neglectDrag: Air drag is neglected. (RefBy: <a href=#constAccel>A: constAccel</a>.)\n",
    "</div>"
   ]
  },
  {
   "cell_type": "markdown",
   "metadata": {},
   "source": [
    "<div id=\"pointMass\">\n",
    "pointMass: The size and shape of the projectile are negligible, so that it can be modelled as a point mass. (RefBy: <a href=#GD:rectVel>GD: rectVel</a> and <a href=#GD:rectPos>GD: rectPos</a>.)\n",
    "</div>"
   ]
  },
  {
   "cell_type": "markdown",
   "metadata": {},
   "source": [
    "<div id=\"freeFlight\">\n",
    "freeFlight: The flight is free; there are no collisions during the trajectory of the projectile. (RefBy: <a href=#constAccel>A: constAccel</a>.)\n",
    "</div>"
   ]
  },
  {
   "cell_type": "markdown",
   "metadata": {},
   "source": [
    "<div id=\"neglectCurv\">\n",
    "neglectCurv: The distance is small enough that the curvature of the Earth can be neglected. (RefBy: <a href=#targetXAxis>A: targetXAxis</a> and <a href=#cartSyst>A: cartSyst</a>.)\n",
    "</div>"
   ]
  },
  {
   "cell_type": "markdown",
   "metadata": {},
   "source": [
    "<div id=\"timeStartZero\">\n",
    "timeStartZero: Time starts at zero. (RefBy: <a href=#GD:velVec>GD: velVec</a>, <a href=#IM:calOfLandingTime>IM: calOfLandingTime</a>, <a href=#GD:rectVel>GD: rectVel</a>, <a href=#GD:rectPos>GD: rectPos</a>, and <a href=#GD:posVec>GD: posVec</a>.)\n",
    "</div>"
   ]
  },
  {
   "cell_type": "markdown",
   "metadata": {},
   "source": [
    "<div id=\"Sec:TMs\">\n",
    "<h3>Theoretical Models</h3>\n",
    "</div>"
   ]
  },
  {
   "cell_type": "markdown",
   "metadata": {},
   "source": [
    "This section focuses on the general equations and laws that Projectile is based on."
   ]
  },
  {
   "cell_type": "markdown",
   "metadata": {},
   "source": [
    "|<div id=\"TM:acceleration\"></div> Refname|<b>TM:acceleration</b>|\n",
    "|:--- |:--- |\n",
    "|<b>Label</b>|Acceleration|\n",
    "|<b>Equation</b>|$$\\mathbf{a}=\\frac{\\,d\\mathbf{v}}{\\,dt}$$|\n",
    "|<b>Description</b>|<em><b>a</b></em> is the acceleration (m/s<sup>2</sup>) <br> <em>t</em> is the time (s) <br> <em><b>v</b></em> is the velocity (m/s)|\n",
    "|<b>Source</b>|<a href=#accelerationWiki>accelerationWiki</a> and <a href=#hibbeler2004>hibbeler2004</a> (pg. 7)|\n",
    "|<b>RefBy</b>|<a href=#GD:rectVel>GD: rectVel</a>|"
   ]
  },
  {
   "cell_type": "markdown",
   "metadata": {},
   "source": [
    "|<div id=\"TM:velocity\"></div> Refname|<b>TM:velocity</b>|\n",
    "|:--- |:--- |\n",
    "|<b>Label</b>|Velocity|\n",
    "|<b>Equation</b>|$$\\mathbf{v}=\\frac{\\,d\\mathbf{p}}{\\,dt}$$|\n",
    "|<b>Description</b>|<em><b>v</b></em> is the velocity (m/s) <br> <em>t</em> is the time (s) <br> <em><b>p</b></em> is the position (m)|\n",
    "|<b>Source</b>|<a href=#velocityWiki>velocityWiki</a> and <a href=#hibbeler2004>hibbeler2004</a> (pg. 6)|\n",
    "|<b>RefBy</b>|<a href=#GD:rectPos>GD: rectPos</a>|"
   ]
  },
  {
   "cell_type": "markdown",
   "metadata": {},
   "source": [
    "<div id=\"Sec:GDs\">\n",
    "<h3>General Definitions</h3>\n",
    "</div>"
   ]
  },
  {
   "cell_type": "markdown",
   "metadata": {},
   "source": [
    "This section collects the laws and equations that will be used to build the instance models."
   ]
  },
  {
   "cell_type": "markdown",
   "metadata": {},
   "source": [
    "|<div id=\"GD:rectVel\"></div> Refname|<b>GD:rectVel</b>|\n",
    "|:--- |:--- |\n",
    "|<b>Label</b>|Rectilinear (1D) velocity as a function of time for constant acceleration|\n",
    "|<b>Units</b>|m/s|\n",
    "|<b>Equation</b>|$$v={v^{i}}+{a^{c}} t$$|\n",
    "|<b>Description</b>|<em>v</em> is the speed (m/s) <br> <em>v<sup>i</sup></em> is the initial speed (m/s) <br> <em>a<sup>c</sup></em> is the constant acceleration (m/s<sup>2</sup>) <br> <em>t</em> is the time (s)|\n",
    "|<b>Source</b>|<a href=#hibbeler2004>hibbeler2004</a> (pg. 8)|\n",
    "|<b>RefBy</b>|<a href=#GD:velVec>GD: velVec</a> and <a href=#GD:rectPos>GD: rectPos</a>|"
   ]
  },
  {
   "cell_type": "markdown",
   "metadata": {},
   "source": [
    "<div id=\"GD:rectVelDeriv\">\n",
    "<h4>Detailed derivation of rectilinear velocity:</h4>\n",
    "</div>"
   ]
  },
  {
   "cell_type": "markdown",
   "metadata": {},
   "source": [
    "Assume we have rectilinear motion of a particle (of negligible size and shape, from <a href=#pointMass>A: pointMass</a>); that is, motion in a straight line. The velocity is <em>v</em> and the acceleration is <em>a</em>. The motion in <a href=#TM:acceleration>TM: acceleration</a> is now one-dimensional with a constant acceleration, represented by <em>a<sup>c</sup></em>. The initial velocity (at <em>t = 0</em>, from <a href=#timeStartZero>A: timeStartZero</a>) is represented by <em>v<sup>i</sup></em>. From <a href=#TM:acceleration>TM: acceleration</a>, using the above symbols we have:"
   ]
  },
  {
   "cell_type": "markdown",
   "metadata": {},
   "source": [
    "$${a^{c}}=\\frac{\\,dv}{\\,dt}$$"
   ]
  },
  {
   "cell_type": "markdown",
   "metadata": {},
   "source": [
    "Rearranging and integrating, we have:"
   ]
  },
  {
   "cell_type": "markdown",
   "metadata": {},
   "source": [
    "$$\\int_{{v^{i}}}^{v}{1}\\,dv=\\int_{0}^{t}{{a^{c}}}\\,dt$$"
   ]
  },
  {
   "cell_type": "markdown",
   "metadata": {},
   "source": [
    "Performing the integration, we have the required equation:"
   ]
  },
  {
   "cell_type": "markdown",
   "metadata": {},
   "source": [
    "$$v={v^{i}}+{a^{c}} t$$"
   ]
  },
  {
   "cell_type": "markdown",
   "metadata": {},
   "source": [
    "|<div id=\"GD:rectPos\"></div> Refname|<b>GD:rectPos</b>|\n",
    "|:--- |:--- |\n",
    "|<b>Label</b>|Rectilinear (1D) position as a function of time for constant acceleration|\n",
    "|<b>Units</b>|m|\n",
    "|<b>Equation</b>|$$p={p^{i}}+{v^{i}} t+\\frac{{a^{c}} t^{2}}{2}$$|\n",
    "|<b>Description</b>|<em>p</em> is the scalar position (m) <br> <em>p<sup>i</sup></em> is the initial position (m) <br> <em>v<sup>i</sup></em> is the initial speed (m/s) <br> <em>t</em> is the time (s) <br> <em>a<sup>c</sup></em> is the constant acceleration (m/s<sup>2</sup>)|\n",
    "|<b>Source</b>|<a href=#hibbeler2004>hibbeler2004</a> (pg. 8)|\n",
    "|<b>RefBy</b>|<a href=#GD:posVec>GD: posVec</a>|"
   ]
  },
  {
   "cell_type": "markdown",
   "metadata": {},
   "source": [
    "<div id=\"GD:rectPosDeriv\">\n",
    "<h4>Detailed derivation of rectilinear position:</h4>\n",
    "</div>"
   ]
  },
  {
   "cell_type": "markdown",
   "metadata": {},
   "source": [
    "Assume we have rectilinear motion of a particle (of negligible size and shape, from <a href=#pointMass>A: pointMass</a>); that is, motion in a straight line. The position is <em>p</em> and the velocity is <em>v</em>. The motion in <a href=#TM:velocity>TM: velocity</a> is now one-dimensional. The initial position (at <em>t = 0</em>, from <a href=#timeStartZero>A: timeStartZero</a>) is represented by <em>p<sup>i</sup></em>. From <a href=#TM:velocity>TM: velocity</a>, using the above symbols we have:"
   ]
  },
  {
   "cell_type": "markdown",
   "metadata": {},
   "source": [
    "$$v=\\frac{\\,dp}{\\,dt}$$"
   ]
  },
  {
   "cell_type": "markdown",
   "metadata": {},
   "source": [
    "Rearranging and integrating, we have:"
   ]
  },
  {
   "cell_type": "markdown",
   "metadata": {},
   "source": [
    "$$\\int_{{p^{i}}}^{p}{1}\\,dp=\\int_{0}^{t}{v}\\,dt$$"
   ]
  },
  {
   "cell_type": "markdown",
   "metadata": {},
   "source": [
    "From <a href=#GD:rectVel>GD: rectVel</a> we can replace <em>v</em>:"
   ]
  },
  {
   "cell_type": "markdown",
   "metadata": {},
   "source": [
    "$$\\int_{{p^{i}}}^{p}{1}\\,dp=\\int_{0}^{t}{{v^{i}}+{a^{c}} t}\\,dt$$"
   ]
  },
  {
   "cell_type": "markdown",
   "metadata": {},
   "source": [
    "Performing the integration, we have the required equation:"
   ]
  },
  {
   "cell_type": "markdown",
   "metadata": {},
   "source": [
    "$$p={p^{i}}+{v^{i}} t+\\frac{{a^{c}} t^{2}}{2}$$"
   ]
  },
  {
   "cell_type": "markdown",
   "metadata": {},
   "source": [
    "|<div id=\"GD:velVec\"></div> Refname|<b>GD:velVec</b>|\n",
    "|:--- |:--- |\n",
    "|<b>Label</b>|Velocity vector as a function of time for 2D motion under constant acceleration|\n",
    "|<b>Units</b>|m/s|\n",
    "|<b>Equation</b>|$$\n",
    "\\mathbf{v}=\\begin{bmatrix}\n",
    "{{v_{x}}^{i}}+{{a_{x}}^{c}} t\\\\\n",
    "{{v_{y}}^{i}}+{{a_{y}}^{c}} t\n",
    "\\end{bmatrix}\n",
    "$$|\n",
    "|<b>Description</b>|<em><b>v</b></em> is the velocity (m/s) <br> <em>v<sub>x</sub><sup>i</sup></em> is the <em>x</em>-component of initial velocity (m/s) <br> <em>a<sub>x</sub><sup>c</sup></em> is the <em>x</em>-component of constant acceleration (m/s<sup>2</sup>) <br> <em>t</em> is the time (s) <br> <em>v<sub>y</sub><sup>i</sup></em> is the <em>y</em>-component of initial velocity (m/s) <br> <em>a<sub>y</sub><sup>c</sup></em> is the <em>y</em>-component of constant acceleration (m/s<sup>2</sup>)|\n",
    "|<b>Source</b>|--|\n",
    "|<b>RefBy</b>||"
   ]
  },
  {
   "cell_type": "markdown",
   "metadata": {},
   "source": [
    "<div id=\"GD:velVecDeriv\">\n",
    "<h4>Detailed derivation of velocity vector:</h4>\n",
    "</div>"
   ]
  },
  {
   "cell_type": "markdown",
   "metadata": {},
   "source": [
    "For a two-dimensional Cartesian coordinate system (<a href=#twoDMotion>A: twoDMotion</a> and <a href=#cartSyst>A: cartSyst</a>), we can represent the velocity vector as\n",
    "$\\mathbf{v}=\\begin{bmatrix}\n",
    "{v_{x}}\\\\\n",
    "{v_{y}}\n",
    "\\end{bmatrix}$\n",
    "and the acceleration vector as\n",
    "$\\mathbf{a}=\\begin{bmatrix}\n",
    "{a_{x}}\\\\\n",
    "{a_{y}}\n",
    "\\end{bmatrix}$\n",
    ". The acceleration is assumed to be constant (<a href=#constAccel>A: constAccel</a>) and the constant acceleration vector is represented as ${\\mathbf{a}^{c}}=\\begin{bmatrix}\n",
    "{{a_{x}}^{c}}\\\\\n",
    "{{a_{y}}^{c}}\n",
    "\\end{bmatrix}$\n",
    ". The initial velocity (at <em>t = 0</em>, from <a href=#timeStartZero>A: timeStartZero</a>) is represented by\n",
    "${\\mathbf{v}^{i}}=\\begin{bmatrix}\n",
    "{{v_{x}}^{i}}\\\\\n",
    "{{v_{y}}^{i}}\n",
    "\\end{bmatrix}$\n",
    ". Since we have a Cartesian coordinate system, <a href=#GD:rectVel>GD: rectVel</a> can be applied to each coordinate of the velocity vector to yield the required equation:"
   ]
  },
  {
   "cell_type": "markdown",
   "metadata": {},
   "source": [
    "$$\n",
    "\\mathbf{v}=\\begin{bmatrix}\n",
    "{{v_{x}}^{i}}+{{a_{x}}^{c}} t\\\\\n",
    "{{v_{y}}^{i}}+{{a_{y}}^{c}} t\n",
    "\\end{bmatrix}\n",
    "$$"
   ]
  },
  {
   "cell_type": "markdown",
   "metadata": {},
   "source": [
    "|<div id=\"GD:posVec\"></div> Refname|<b>GD:posVec</b>|\n",
    "|:--- |:--- |\n",
    "|<b>Label</b>|Position vector as a function of time for 2D motion under constant acceleration|\n",
    "|<b>Units</b>|m/s|\n",
    "|<b>Equation</b>|$$\n",
    "\\mathbf{p}=\\begin{bmatrix}\n",
    "{{p_{x}}^{i}}+{{v_{x}}^{i}} t+\\frac{{{a_{x}}^{c}} t^{2}}{2}\\\\\n",
    "{{p_{y}}^{i}}+{{v_{y}}^{i}} t+\\frac{{{a_{y}}^{c}} t^{2}}{2}\n",
    "\\end{bmatrix}\n",
    "$$|\n",
    "|<b>Description</b>|<em><b>p</b></em> is the position (m) <br> <em>p<sub>x</sub><sup>i</sup></em> is the <em>x</em>-component of initial position (m) <br> <em>v<sub>x</sub><sup>i</sup></em> is the <em>x</em>-component of initial velocity (m/s) <br> <em>t</em> is the time (s) <br> <em>a<sub>x</sub><sup>c</sup></em> is the <em>x</em>-component of constant acceleration (m/s<sup>2</sup>) <br> <em>p<sub>y</sub><sup>i</sup></em> is the <em>y</em>-component of initial position (m) <br> <em>v<sub>y</sub><sup>i</sup></em> is the <em>y</em>-component of initial velocity (m/s) <br> <em>a<sub>y</sub><sup>c</sup></em> is the <em>y</em>-component of constant acceleration (m/s<sup>2</sup>)|\n",
    "|<b>Source</b>|--|\n",
    "|<b>RefBy</b>|<a href=#IM:calOfLandingTime>IM: calOfLandingTime</a> and <a href=#IM:calOfLandingDist>IM: calOfLandingDist</a>|"
   ]
  },
  {
   "cell_type": "markdown",
   "metadata": {},
   "source": [
    "<div id=\"GD:posVecDeriv\">\n",
    "<h4>Detailed derivation of position vector:</h4>\n",
    "</div>"
   ]
  },
  {
   "cell_type": "markdown",
   "metadata": {},
   "source": [
    "For a two-dimensional Cartesian coordinate system (<a href=#twoDMotion>A: twoDMotion</a> and <a href=#cartSyst>A: cartSyst</a>), we can represent the position vector as\n",
    "$\\mathbf{p}=\\begin{bmatrix}\n",
    "{p_{x}}\\\\\n",
    "{p_{y}}\n",
    "\\end{bmatrix}$\n",
    ", the velocity vector as\n",
    "$\\mathbf{v}=\\begin{bmatrix}\n",
    "{v_{x}}\\\\\n",
    "{v_{y}}\n",
    "\\end{bmatrix}$\n",
    ", and the acceleration vector as\n",
    "$\\mathbf{a}=\\begin{bmatrix}\n",
    "{a_{x}}\\\\\n",
    "{a_{y}}\n",
    "\\end{bmatrix}$\n",
    ". The acceleration is assumed to be constant (<a href=#constAccel>A: constAccel</a>) and the constant acceleration vector is represented as\n",
    "${\\mathbf{a}^{c}}=\\begin{bmatrix}\n",
    "{{a_{x}}^{c}}\\\\\n",
    "{{a_{y}}^{c}}\n",
    "\\end{bmatrix}$\n",
    ". The initial velocity (at <em>t = 0</em>, from <a href=#timeStartZero>A: timeStartZero</a>) is represented by\n",
    "${\\mathbf{v}^{i}}=\\begin{bmatrix}\n",
    "{{v_{x}}^{i}}\\\\\n",
    "{{v_{y}}^{i}}\n",
    "\\end{bmatrix}$\n",
    ". Since we have a Cartesian coordinate system, <a href=#GD:rectPos>GD: rectPos</a> can be applied to each coordinate of the position vector to yield the required equation:"
   ]
  },
  {
   "cell_type": "markdown",
   "metadata": {},
   "source": [
    "$$\\mathbf{p}=\\begin{bmatrix}\n",
    "{{p_{x}}^{i}}+{{v_{x}}^{i}} t+\\frac{{{a_{x}}^{c}} t^{2}}{2}\\\\\n",
    "{{p_{y}}^{i}}+{{v_{y}}^{i}} t+\\frac{{{a_{y}}^{c}} t^{2}}{2}\n",
    "\\end{bmatrix}$$"
   ]
  },
  {
   "cell_type": "markdown",
   "metadata": {},
   "source": [
    "<div id=\"Sec:DDs\">\n",
    "<h3>Data Definitions</h3>\n",
    "</div>"
   ]
  },
  {
   "cell_type": "markdown",
   "metadata": {},
   "source": [
    "This section collects and defines all the data needed to build the instance models."
   ]
  },
  {
   "cell_type": "markdown",
   "metadata": {},
   "source": [
    "|<div id=\"DD:vecMag\"></div> Refname|<b>DD:vecMag</b>|\n",
    "|:--- |:--- |\n",
    "|<b>Label</b>|Speed|\n",
    "|<b>Symbol</b>|<em>v</em>|\n",
    "|<b>Units</b>|m/s|\n",
    "|<b>Equation</b>|$$\n",
    "v=|\\mathbf{v}|\n",
    "$$|\n",
    "|<b>Description</b>|<em>v</em> is the speed (m/s) <br> <em><b>v</b></em> is the velocity (m/s)|\n",
    "|<b>Notes</b>|For a given velocity vector $\\mathbf{v}$, the magnitude of the vector ($|\\mathbf{v}|$) is the scalar called speed.|\n",
    "|<b>Source</b>|--|\n",
    "|<b>RefBy</b>|<a href=#DD:speedIY>DD: speedIY</a> and <a href=#DD:speedIX>DD: speedIX</a>|"
   ]
  },
  {
   "cell_type": "markdown",
   "metadata": {},
   "source": [
    "|<div id=\"DD:speedIX\"></div> Refname|<b>DD:speedIX</b>|\n",
    "|:--- |:--- |\n",
    "|<b>Label</b>|<em>x</em>-component of initial velocity|\n",
    "|<b>Symbol</b>|<em>v<sub>x</sub><sup>i</sup></em>|\n",
    "|<b>Units</b>|m/s|\n",
    "|<b>Equation</b>|$$\n",
    "{{v_{x}}^{i}}={v^{i}} \\cos\\left(θ\\right)\n",
    "$$|\n",
    "|<b>Description</b>|<em>v<sub>x</sub><sup>i</sup></em> is the <em>x</em>-component of initial velocity (m/s) <br> <em>v<sup>i</sup></em> is the initial speed (m/s) <br> <em>θ</em> is the launch angle (rad)</li>|\n",
    "|<b>Notes</b>|<em>v<sup>i</sup></em> is from <a href=#DD:vecMag>DD: vecMag</a>. <br> <em>θ</em> is shown in <a href=#Figure:Launch>Fig:Launch</a>.|\n",
    "|<b>Source</b>|--|\n",
    "|<b>RefBy</b>|<a href=#IM:calOfLandingDist>IM: calOfLandingDist</a>|"
   ]
  },
  {
   "cell_type": "markdown",
   "metadata": {},
   "source": [
    "|<div id=\"DD:speedIY\"></div> Refname|<b>DD:speedIY</b>|\n",
    "|:--- |:--- |\n",
    "|<b>Label</b>|<em>y</em>-component of initial velocity|\n",
    "|<b>Symbol</b>|<em>v<sub>y</sub><sup>i</sup></em>|\n",
    "|<b>Units</b>|m/s|\n",
    "|<b>Equation</b>|$$\n",
    "{{v_{y}}^{i}}={v^{i}} \\sin\\left(θ\\right)\n",
    "$$|\n",
    "|<b>Description</b>|<em>v<sub>y</sub><sup>i</sup></em> is the <em>y</em>-component of initial velocity (m/s) <br> <em>v<sup>i</sup></em> is the initial speed (m/s) <br> <em>θ</em> is the launch angle (rad)|\n",
    "|<b>Notes</b>|<em>v<sup>i</sup></em> is from <a href=#DD:vecMag>DD: vecMag</a>. <br> <em>θ</em> is shown in <a href=#Figure:Launch>Fig:Launch</a>.|\n",
    "|<b>Source</b>|--|\n",
    "|<b>RefBy</b>|<a href=#IM:calOfLandingTime>IM: calOfLandingTime</a>|"
   ]
  },
  {
   "cell_type": "markdown",
   "metadata": {},
   "source": [
    "<div id=\"Sec:IMs\">\n",
    "<h3>Instance Models</h3>\n",
    "</div>"
   ]
  },
  {
   "cell_type": "markdown",
   "metadata": {},
   "source": [
    "This section transforms the problem defined in <a href=#Sec:ProbDesc>Section: Problem Description</a> into one which is expressed in mathematical terms. It uses concrete symbols defined in <a href=#Sec:DDs>Section: Data Definitions</a> to replace the abstract symbols in the models identified in <a href=#Sec:TMs>Section: Theoretical Models</a> and <a href=#Sec:GDs>Section: General Definitions</a>."
   ]
  },
  {
   "cell_type": "markdown",
   "metadata": {},
   "source": [
    "|<div id=\"IM:calOfLandingTime\"></div> Refname|<b>IM:calOfLandingTime</b>|\n",
    "|:--- |:--- |\n",
    "|<b>Label</b>|Calculation of landing time|\n",
    "|<b>Input</b>|<em>v<sub>launch</sub></em>, <em>θ</em>|\n",
    "|<b>Output</b>|<em>t<sub>flight</sub></em>|\n",
    "|<b>Input Constraints</b>|$${v_{launch}}>0$$ $$0<θ<\\frac{π}{2}$$|\n",
    "|<b>Output Constraints</b>|$${t_{flight}}>0$$|\n",
    "|<b>Equation</b>|$$\n",
    "{t_{flight}}=\\frac{2 {v_{launch}} \\sin\\left(θ\\right)}{g}\n",
    "$$|\n",
    "|<b>Description</b>|<em>t<sub>flight</sub></em> is the flight duration (s) <br> <em>v<sub>launch</sub></em> is the launch speed (m/s) <br> <em>θ</em> is the launch angle (rad) <br> <em>g</em> is the gravitational acceleration (m/s<sup>2</sup>)|\n",
    "|<b>Notes</b>|The constraint $0<θ<\\frac{π}{2}$ is from <a href=#posXDirection>A: posXDirection</a> and <a href=#yAxisGravity>A: yAxisGravity</a>, and is shown in <a href=#Figure:Launch>Fig:Launch</a>. <br> <em>g</em> is defined in <a href=#Sec:AuxConstants>Section: Values of Auxiliary Constants</a>. <br> The constraint ${t_{flight}}>0$ is from <a href=#timeStartZero>A: timeStartZero</a>.|\n",
    "|<b>Source</b>|--|\n",
    "|<b>RefBy</b>|<a href=#IM:calOfLandingDist>IM: calOfLandingDist</a> and <a href=#calcValues>FR: Calculate-Values</a>|"
   ]
  },
  {
   "cell_type": "markdown",
   "metadata": {},
   "source": [
    "<div id=\"IM:calOfLandingTimeDeriv\">\n",
    "<h4>Detailed derivation of flight duration:</h4>\n",
    "</div>"
   ]
  },
  {
   "cell_type": "markdown",
   "metadata": {},
   "source": [
    "We know that <em>p<sub>y</sub><sup>i</sup> = 0</em> (<a href=#launchOrigin>A: launchOrigin</a>) and <em>a<sub>y</sub><sup>c</sup> = &minus;g</em> (<a href=#accelYGravity>A: accelYGravity</a>). Substituting these values into the y-direction of <a href=#GD:posVec>GD: posVec</a> gives us:"
   ]
  },
  {
   "cell_type": "markdown",
   "metadata": {},
   "source": [
    "$${p_{y}}={{v_{y}}^{i}} t-\\frac{g t^{2}}{2}$$"
   ]
  },
  {
   "cell_type": "markdown",
   "metadata": {},
   "source": [
    "To find the time that the projectile lands, we want to find the <em>t</em> value (<em>t<sub>flight</sub></em>) where <em>p<sub>y</sub> = 0</em> (since the target is on the <em>x</em>-axis from <a href=#targetXAxis>A: targetXAxis</a>). From the equation above we get:"
   ]
  },
  {
   "cell_type": "markdown",
   "metadata": {},
   "source": [
    "$${{v_{y}}^{i}} {t_{flight}}-\\frac{g {t_{flight}}^{2}}{2}=0$$"
   ]
  },
  {
   "cell_type": "markdown",
   "metadata": {},
   "source": [
    "Dividing by <em>t<sub>flight</sub></em> (with the constraint <em>t<sub>flight</sub>&thinsp;&gt;&thinsp;0</em>) gives us:"
   ]
  },
  {
   "cell_type": "markdown",
   "metadata": {},
   "source": [
    "$${{v_{y}}^{i}}-\\frac{g {t_{flight}}}{2}=0$$"
   ]
  },
  {
   "cell_type": "markdown",
   "metadata": {},
   "source": [
    "Solving for <em>t<sub>flight</sub></em> gives us:"
   ]
  },
  {
   "cell_type": "markdown",
   "metadata": {},
   "source": [
    "$${t_{flight}}=\\frac{2 {{v_{y}}^{i}}}{g}$$"
   ]
  },
  {
   "cell_type": "markdown",
   "metadata": {},
   "source": [
    "From <a href=#DD:speedIY>DD: speedIY</a> (with <em>v<sup>i</sup> = v<sub>launch</sub></em>) we can replace <em>v<sub>y</sub><sup>i</sup></em>:"
   ]
  },
  {
   "cell_type": "markdown",
   "metadata": {},
   "source": [
    "$${t_{flight}}=\\frac{2 {v_{launch}} \\sin\\left(θ\\right)}{g}$$"
   ]
  },
  {
   "cell_type": "markdown",
   "metadata": {},
   "source": [
    "|<div id=\"IM:calOfLandingDist\"></div> Refname|<b>IM:calOfLandingDist</b>|\n",
    "|:--- |:--- |\n",
    "|<b>Label</b>|Calculation of landing position|\n",
    "|<b>Input</b>|${v_{launch}}$, $θ$|\n",
    "|<b>Output</b>|${p_{land}}$|\n",
    "|<b>Input Constraints</b>|$${v_{launch}}>0$$ $$0<θ<\\frac{π}{2}$$|\n",
    "|<b>Output Constraints</b>|$${p_{land}}>0$$|\n",
    "|<b>Equation</b>|$$\n",
    "{p_{land}}=\\frac{2 {v_{launch}}^{2} \\sin\\left(θ\\right) \\cos\\left(θ\\right)}{g}\n",
    "$$|\n",
    "|<b>Description</b>|<em>p<sub>land</sub></em> is the landing position (m) </br> <em>v<sub>launch</sub></em> is the launch speed (m/s) <br> <em>θ</em> is the launch angle (rad) <br> <em>g</em> is the gravitational acceleration (m/s<sup>2</sup>)|\n",
    "|<b>Notes</b>|The constraint $0<θ<\\frac{π}{2}$ is from <a href=#posXDirection>A: posXDirection</a> and <a href=#yAxisGravity>A: yAxisGravity</a>, and is shown in <a href=#Figure:Launch>Fig:Launch</a>. <br> <em>g</em> is defined in <a href=#Sec:AuxConstants>Section: Values of Auxiliary Constants</a>. <br> The constraint ${p_{land}}>0$ is from <a href=#posXDirection>A: posXDirection</a>.|\n",
    "|<b>Source</b>|--|\n",
    "|<b>RefBy</b>|<a href=#IM:offsetIM>IM: offsetIM</a> and <a href=#calcValues>FR: Calculate-Values</a>|"
   ]
  },
  {
   "cell_type": "markdown",
   "metadata": {},
   "source": [
    "<div id=\"IM:calOfLandingDistDeriv\">\n",
    "<h4>Detailed derivation of landing position:</h4>\n",
    "</div>"
   ]
  },
  {
   "cell_type": "markdown",
   "metadata": {},
   "source": [
    "We know that <em>p<sub>x</sub><sup>i</sup> = 0</em> (<a href=#launchOrigin>A: launchOrigin</a>) and <em>a<sub>x</sub><sup>c</sup> = 0</em> (<a href=#accelXZero>A: accelXZero</a>). Substituting these values into the x-direction of <a href=#GD:posVec>GD: posVec</a> gives us:"
   ]
  },
  {
   "cell_type": "markdown",
   "metadata": {},
   "source": [
    "$${p_{x}}={{v_{x}}^{i}} t$$"
   ]
  },
  {
   "cell_type": "markdown",
   "metadata": {},
   "source": [
    "To find the landing position, we want to find the <em>p<sub>x</sub></em> value (<em>p<sub>land</sub></em>) at flight duration (from <a href=#IM:calOfLandingTime>IM: calOfLandingTime</a>):"
   ]
  },
  {
   "cell_type": "markdown",
   "metadata": {},
   "source": [
    "$${p_{land}}=\\frac{{{v_{x}}^{i}}\\cdot{}2 {v_{launch}} \\sin\\left(θ\\right)}{g}$$"
   ]
  },
  {
   "cell_type": "markdown",
   "metadata": {},
   "source": [
    "From <a href=#DD:speedIX>DD: speedIX</a> (with <em>v<sup>i</sup> = v<sub>launch</sub></em>) we can replace <em>v<sub>x</sub><sup>i</sup></em>:"
   ]
  },
  {
   "cell_type": "markdown",
   "metadata": {},
   "source": [
    "$${p_{land}}=\\frac{{v_{launch}} \\cos\\left(θ\\right)\\cdot{}2 {v_{launch}} \\sin\\left(θ\\right)}{g}$$"
   ]
  },
  {
   "cell_type": "markdown",
   "metadata": {},
   "source": [
    "Rearranging this gives us the required equation:"
   ]
  },
  {
   "cell_type": "markdown",
   "metadata": {},
   "source": [
    "$${p_{land}}=\\frac{2 {v_{launch}}^{2} \\sin\\left(θ\\right) \\cos\\left(θ\\right)}{g}$$"
   ]
  },
  {
   "cell_type": "markdown",
   "metadata": {},
   "source": [
    "|<div id=\"IM:offsetIM\"></div> Refname|<b>IM:offsetIM</b>|\n",
    "|:--- |:--- |\n",
    "|<b>Label</b>|Offset|\n",
    "|<b>Input</b>|${p_{land}}$, ${p_{target}}$|\n",
    "|<b>Output</b>|${d_{offset}}$|\n",
    "|<b>Input Constraints</b>|$${p_{land}}>0$$ $${p_{target}}>0$$|\n",
    "|<b>Output Constraints</b>||\n",
    "|<b>Equation</b>|$$\n",
    "{d_{offset}}={p_{land}}-{p_{target}}\n",
    "$$|\n",
    "|<b>Description</b>|<em>d<sub>offset</sub></em> is the distance between the target position and the landing position (m) <br> <em>p<sub>land</sub></em> is the landing position (m) <br> <em>p<sub>target</sub></em> is the target position (m)|\n",
    "|<b>Notes</b>|<em>p<sub>land</sub></em> is from <a href=#IM:calOfLandingDist>IM: calOfLandingDist</a>. <br> The constraints <em>p<sub>land</sub>&thinsp;&gt;&thinsp;0</em> and <em>p<sub>target</sub>&thinsp;&gt;&thinsp;0</em> are from <a href=#posXDirection>A: posXDirection</a>.|\n",
    "|<b>Source</b>|--|\n",
    "|<b>RefBy</b>|<a href=#outputValues>FR: Output-Values</a>, <a href=#IM:messageIM>IM: messageIM</a>, and <a href=#calcValues>FR: Calculate-Values</a>|"
   ]
  },
  {
   "cell_type": "markdown",
   "metadata": {},
   "source": [
    "|<div id=\"IM:messageIM\"></div> Refname|<b>IM:messageIM</b>|\n",
    "|:--- |:--- |\n",
    "|<b>Label</b>|Output message|\n",
    "|<b>Input</b>|${d_{offset}}$, ${p_{target}}$|\n",
    "|<b>Output</b>|$s$|\n",
    "|<b>Input Constraints</b>|$${p_{target}}>0$$ $${d_{offset}}>-{p_{land}}$$|\n",
    "|<b>Output Constraints</b>||\n",
    "|<b>Equation</b>|$$\n",
    "s=\\begin{cases}\n",
    "\\text{\"The target was hit.\"}, & |\\frac{{d_{offset}}}{{p_{target}}}|<ε\\\\\n",
    "\\text{\"The projectile fell short.\"}, & {d_{offset}}<0\\\\\n",
    "\\text{\"The projectile went long.\"}, & {d_{offset}}>0\n",
    "\\end{cases}\n",
    "$$|\n",
    "|<b>Description</b>|<em>s</em> is the output message as a string (Unitless) <br> <em>d<sub>offset</sub></em> is the distance between the target position and the landing position (m) <br> <em>p<sub>target</sub></em> is the target position (m) <br> <em>ε</em> is the hit tolerance (Unitless)|\n",
    "|<b>Notes</b>|<em>d<sub>offset</sub></em> is from <a href=#IM:offsetIM>IM: offsetIM</a>. <br> The constraint <em>p<sub>target</sub>&thinsp;&gt;&thinsp;0</em> is from <a href=#posXDirection>A: posXDirection</a>. <br> The constraint <em>d<sub>offset</sub>&thinsp;&gt;&thinsp;&minus;p<sub>land</sub></em> is from the fact that <em>p<sub>land</sub>&thinsp;&gt;&thinsp;0</em>, from <a href=#posXDirection>A: posXDirection</a>. <br> <em>ε</em> is defined in <a href=#Sec:AuxConstants>Section: Values of Auxiliary Constants</a>.|\n",
    "|<b>Source</b>|--|\n",
    "|<b>RefBy</b>|<a href=#outputValues>FR: Output-Values</a> and <a href=#calcValues>FR: Calculate-Values</a>|"
   ]
  },
  {
   "cell_type": "markdown",
   "metadata": {},
   "source": [
    "<div id=\"Sec:DataConstraints\">\n",
    "<h3>Data Constraints</h3>\n",
    "</div>"
   ]
  },
  {
   "cell_type": "markdown",
   "metadata": {},
   "source": [
    "<a href=#Table:InDataConstraints>Table:InDataConstraints</a> shows the data constraints on the input variables. The column for physical constraints gives the physical limitations on the range of values that can be taken by the variable. The uncertainty column provides an estimate of the confidence with which the physical quantities can be measured. This information would be part of the input if one were performing an uncertainty quantification exercise. The constraints are conservative, to give the user of the model the flexibility to experiment with unusual situations. The column of typical values is intended to provide a feel for a common scenario."
   ]
  },
  {
   "cell_type": "markdown",
   "metadata": {},
   "source": [
    "|<div id=\"Table:InDataConstraints\"></div> Var|Physical Constraints|Typical Value|Uncert.|\n",
    "|:--- |:--- |:--- |:--- |\n",
    "|${p_{target}}$|${p_{target}}>0$|$1000$ m|10$\\%$|\n",
    "|${v_{launch}}$|${v_{launch}}>0$|$100$ $\\frac{\\text{m}}{\\text{s}}$|10$\\%$|\n",
    "|$θ$|$0<θ<\\frac{π}{2}$|$\\frac{π}{4}$ rad|10$\\%$|"
   ]
  },
  {
   "cell_type": "markdown",
   "metadata": {},
   "source": [
    "<div align=\"center\">\n",
    "<b>Input Data Constraints</b>\n",
    "</div>"
   ]
  },
  {
   "cell_type": "markdown",
   "metadata": {},
   "source": [
    "<div id=\"Sec:CorSolProps\">\n",
    "<h3>Properties of a Correct Solution</h3>\n",
    "</div>"
   ]
  },
  {
   "cell_type": "markdown",
   "metadata": {},
   "source": [
    "<a href=#Table:OutDataConstraints>Table:OutDataConstraints</a> shows the data constraints on the output variables. The column for physical constraints gives the physical limitations on the range of values that can be taken by the variable."
   ]
  },
  {
   "cell_type": "markdown",
   "metadata": {},
   "source": [
    "|<div id=\"Table:OutDataConstraints\"></div>Var|Physical Constraints|\n",
    "|:--- |:--- |\n",
    "|${p_{land}}$|${p_{land}}>0$|\n",
    "|${d_{offset}}$|${d_{offset}}>-{p_{land}}$|"
   ]
  },
  {
   "cell_type": "markdown",
   "metadata": {},
   "source": [
    "<div align=\"center\">\n",
    "<b>Output Data Constraints</b>\n",
    "</div>"
   ]
  },
  {
   "cell_type": "markdown",
   "metadata": {},
   "source": [
    "<div id=\"Sec:Requirements\">\n",
    "<h1>Requirements</h1>\n",
    "</div>"
   ]
  },
  {
   "cell_type": "markdown",
   "metadata": {},
   "source": [
    "This section provides the functional requirements, the tasks and behaviours that the software is expected to complete, and the non-functional requirements, the qualities that the software is expected to exhibit."
   ]
  },
  {
   "cell_type": "markdown",
   "metadata": {},
   "source": [
    "<div id=\"Sec:FRs\">\n",
    "<h2>Functional Requirements</h2>\n",
    "</div>"
   ]
  },
  {
   "cell_type": "markdown",
   "metadata": {},
   "source": [
    "This section provides the functional requirements, the tasks and behaviours that the software is expected to complete."
   ]
  },
  {
   "cell_type": "markdown",
   "metadata": {},
   "source": [
    "<div id=\"inputParams\">\n",
    "Input-Parameters: Input the quantities from <a href=#Table:ReqInputs>Table:ReqInputs</a>, which define the launch angle, launch speed, and target position.\n",
    "</div>"
   ]
  },
  {
   "cell_type": "markdown",
   "metadata": {},
   "source": [
    "<div id=\"verifyParams\">\n",
    "Verify-Parameters: Check the entered input parameters to ensure that they do not exceed the data constraints mentioned in <a href=#Sec:DataConstraints>Section: Data Constraints</a>. If any of the input parameters are out of bounds, an error message is displayed and the calculations stop.\n",
    "</div>"
   ]
  },
  {
   "cell_type": "markdown",
   "metadata": {},
   "source": [
    "<div id=\"calcValues\">\n",
    "Calculate-Values: Calculate the following quantities: <em>t<sub>flight</sub></em> (from <a href=#IM:calOfLandingTime>IM: calOfLandingTime</a>), <em>p<sub>land</sub></em> (from <a href=#IM:calOfLandingDist>IM: calOfLandingDist</a>), <em>d<sub>offset</sub></em> (from <a href=#IM:offsetIM>IM: offsetIM</a>), and <em>s</em> (from <a href=#IM:messageIM>IM: messageIM</a>).\n",
    "</div>"
   ]
  },
  {
   "cell_type": "markdown",
   "metadata": {},
   "source": [
    "<div id=\"outputValues\">\n",
    "Output-Values: Output <em>s</em> (from <a href=#IM:messageIM>IM: messageIM</a>) and <em>d<sub>offset</sub></em> (from <a href=#IM:offsetIM>IM: offsetIM</a>).\n",
    "</div>"
   ]
  },
  {
   "cell_type": "markdown",
   "metadata": {},
   "source": [
    "|<div id=\"Table:ReqInputs\"></div>Symbol|Description|Units|\n",
    "|--- |--- |--- |\n",
    "|<em>p<sub>target</sub></em>|Target position|m|\n",
    "|<em>v<sub>launch</sub></em>|Launch speed|m/s|\n",
    "|θ|Launch angle|rad|"
   ]
  },
  {
   "cell_type": "markdown",
   "metadata": {},
   "source": [
    "<div align=\"center\">\n",
    "<b>Required Inputs following <a href=#inputParams>FR: Input-Parameters</a></b>\n",
    "</div>"
   ]
  },
  {
   "cell_type": "markdown",
   "metadata": {},
   "source": [
    "<div id=\"Sec:NFRs\">\n",
    "<h2>Non-Functional Requirements</h2>\n",
    "</div>"
   ]
  },
  {
   "cell_type": "markdown",
   "metadata": {},
   "source": [
    "This section provides the non-functional requirements, the qualities that the software is expected to exhibit."
   ]
  },
  {
   "cell_type": "markdown",
   "metadata": {},
   "source": [
    "<div id=\"correct\">\n",
    "Correct: The outputs of the code have the properties described in <a href=#Sec:CorSolProps>Section: Properties of a Correct Solution</a>.\n",
    "</div>"
   ]
  },
  {
   "cell_type": "markdown",
   "metadata": {},
   "source": [
    "<div id=\"verifiable\">\n",
    "Verifiable: The code is tested with complete verification and validation plan.\n",
    "</div>"
   ]
  },
  {
   "cell_type": "markdown",
   "metadata": {},
   "source": [
    "<div id=\"understandable\">\n",
    "Understandable: The code is modularized with complete module guide and module interface specification.\n",
    "</div>"
   ]
  },
  {
   "cell_type": "markdown",
   "metadata": {},
   "source": [
    "<div id=\"reusable\">Reusable: The code is modularized.</div>"
   ]
  },
  {
   "cell_type": "markdown",
   "metadata": {},
   "source": [
    "<div id=\"maintainable\">\n",
    "Maintainable: The traceability between requirements, assumptions, theoretical models, general definitions, data definitions, instance models, likely changes, unlikely changes, and modules is completely recorded in traceability matrices in the SRS and module guide.\n",
    "</div>"
   ]
  },
  {
   "cell_type": "markdown",
   "metadata": {},
   "source": [
    "<div id=\"portable\">\n",
    "Portable: The code is able to be run in different environments.\n",
    "</div>"
   ]
  },
  {
   "cell_type": "markdown",
   "metadata": {},
   "source": [
    "<div id=\"Sec:TraceMatrices\">\n",
    "<h1>Traceability Matrices and Graphs</h1>\n",
    "</div>"
   ]
  },
  {
   "cell_type": "markdown",
   "metadata": {},
   "source": [
    "The purpose of the traceability matrices is to provide easy references on what has to be additionally modified if a certain component is changed. Every time a component is changed, the items in the column of that component that are marked with an \"X\" should be modified as well. <a href=#Table:TraceMatAvsAll>Table:TraceMatAvsAll</a> shows the dependencies of data definitions, theoretical models, general definitions, instance models, requirements, likely changes, and unlikely changes on the assumptions. <a href=#Table:TraceMatRefvsRef>Table:TraceMatRefvsRef</a> shows the dependencies of data definitions, theoretical models, general definitions, and instance models with each other. <a href=#Table:TraceMatAllvsR>Table:TraceMatAllvsR</a> shows the dependencies of requirements, goal statements on the data definitions, theoretical models, general definitions, and instance models."
   ]
  },
  {
   "cell_type": "markdown",
   "metadata": {},
   "source": [
    "|<div id=\"Table:TraceMatAvsAll\"></div>|<a href=#twoDMotion>A: twoDMotion</a>|<a href=#cartSyst>A: cartSyst</a>|<a href=#yAxisGravity>A: yAxisGravity</a>|<a href=#launchOrigin>A: launchOrigin</a>|<a href=#targetXAxis>A: targetXAxis</a>|<a href=#posXDirection>A: posXDirection</a>|<a href=#constAccel>A: constAccel</a>|<a href=#accelXZero>A: accelXZero</a>|<a href=#accelYGravity>A: accelYGravity</a>|<a href=#neglectDrag>A: neglectDrag</a>|<a href=#pointMass>A: pointMass</a>|<a href=#freeFlight>A: freeFlight</a>|<a href=#neglectCurv>A: neglectCurv</a>|<a href=#timeStartZero>A: timeStartZero</a>|\n",
    "|:--- |:--- |:--- |:--- |:--- |:--- |:--- |:--- |:--- |:--- |:--- |:--- |:--- |:--- |:--- |\n",
    "|<a href=#DD:vecMag>DD: vecMag</a>|||||||||||||||\n",
    "|<a href=#DD:speedIX>DD: speedIX</a>|||||||||||||||\n",
    "|<a href=#DD:speedIY>DD: speedIY</a>|||||||||||||||\n",
    "|<a href=#TM:acceleration>TM: acceleration</a>|||||||||||||||\n",
    "|<a href=#TM:velocity>TM: velocity</a>|||||||||||||||\n",
    "|<a href=#GD:rectVel>GD: rectVel</a>|||||||||||X|||X|\n",
    "|<a href=#GD:rectPos>GD: rectPos</a>|||||||||||X|||X|\n",
    "|<a href=#GD:velVec>GD: velVec</a>|X|X|||||X|||||||X|\n",
    "|<a href=#GD:posVec>GD: posVec</a>|X|X|||||X|||||||X|\n",
    "|<a href=#IM:calOfLandingTime>IM: calOfLandingTime</a>|||X|X|X|X|||X|||||X|\n",
    "|<a href=#IM:calOfLandingDist>IM: calOfLandingDist</a>|||X|X||X||X|||||||\n",
    "|<a href=#IM:offsetIM>IM: offsetIM</a>||||||X|||||||||\n",
    "|<a href=#IM:messageIM>IM: messageIM</a>||||||X|||||||||\n",
    "|<a href=#inputParams>FR: Input-Parameters</a>|||||||||||||||\n",
    "|<a href=#verifyParams>FR: Verify-Parameters</a>|||||||||||||||\n",
    "|<a href=#calcValues>FR: Calculate-Values</a>|||||||||||||||\n",
    "|<a href=#outputValues>FR: Output-Values</a>|||||||||||||||\n",
    "|<a href=#correct>NFR: Correct</a>|||||||||||||||\n",
    "|<a href=#verifiable>NFR: Verifiable</a>|||||||||||||||\n",
    "|<a href=#understandable>NFR: Understandable</a>|||||||||||||||\n",
    "|<a href=#reusable>NFR: Reusable</a>|||||||||||||||\n",
    "|<a href=#maintainable>NFR: Maintainable</a>|||||||||||||||\n",
    "|<a href=#portable>NFR: Portable</a>|||||||||||||||"
   ]
  },
  {
   "cell_type": "markdown",
   "metadata": {},
   "source": [
    "<div align=\"center\">\n",
    "<b>Traceability Matrix Showing the Connections Between Assumptions and Other Items</b>\n",
    "</div>"
   ]
  },
  {
   "cell_type": "markdown",
   "metadata": {},
   "source": [
    "|<div id=\"Table:TraceMatRefvsRef\"></div>|<a href=#DD:vecMag>DD: vecMag</a>|<a href=#DD:speedIX>DD: speedIX</a>|<a href=#DD:speedIY>DD: speedIY</a>|<a href=#TM:acceleration>TM: acceleration</a>|<a href=#TM:velocity>TM: velocity</a>|<a href=#GD:rectVel>GD: rectVel</a>|<a href=#GD:rectPos>GD: rectPos</a>|<a href=#GD:velVec>GD: velVec</a>|<a href=#GD:posVec>GD: posVec</a>|<a href=#IM:calOfLandingTime>IM: calOfLandingTime</a>|<a href=#IM:calOfLandingDist>IM: calOfLandingDist</a>|<a href=#IM:offsetIM>IM: offsetIM</a>|<a href=#IM:messageIM>IM: messageIM</a>|\n",
    "|:--- |:--- |:--- |:--- |:--- |:--- |:--- |:--- |:--- |:--- |:--- |:--- |:--- |:--- |\n",
    "|<a href=#DD:vecMag>DD: vecMag</a>||||||||||||||\n",
    "|<a href=#DD:speedIX>DD: speedIX</a>|X|||||||||||||\n",
    "|<a href=#DD:speedIY>DD: speedIY</a>|X|||||||||||||\n",
    "|<a href=#TM:acceleration>TM: acceleration</a>||||||||||||||\n",
    "|<a href=#TM:velocity>TM: velocity</a>||||||||||||||\n",
    "|<a href=#GD:rectVel>GD: rectVel</a>||||X||||||||||\n",
    "|<a href=#GD:rectPos>GD: rectPos</a>|||||X|X||||||||\n",
    "|<a href=#GD:velVec>GD: velVec</a>||||||X||||||||\n",
    "|<a href=#GD:posVec>GD: posVec</a>|||||||X|||||||\n",
    "|<a href=#IM:calOfLandingTime>IM: calOfLandingTime</a>|||X||||||X|||||\n",
    "|<a href=#IM:calOfLandingDist>IM: calOfLandingDist</a>||X|||||||X|X||||\n",
    "|<a href=#IM:offsetIM>IM: offsetIM</a>|||||||||||X|||\n",
    "|<a href=#IM:messageIM>IM: messageIM</a>||||||||||||X||"
   ]
  },
  {
   "cell_type": "markdown",
   "metadata": {},
   "source": [
    "<div align=\"center\">\n",
    "<b>Traceability Matrix Showing the Connections Between Items and Other Sections</b>\n",
    "</div>"
   ]
  },
  {
   "cell_type": "markdown",
   "metadata": {},
   "source": [
    "|<div id=\"Table:TraceMatAllvsR\"></div>|<a href=#DD:vecMag>DD: vecMag</a>|<a href=#DD:speedIX>DD: speedIX</a>|<a href=#DD:speedIY>DD: speedIY</a>|<a href=#TM:acceleration>TM: acceleration</a>|<a href=#TM:velocity>TM: velocity</a>|<a href=#GD:rectVel>GD: rectVel</a>|<a href=#GD:rectPos>GD: rectPos</a>|<a href=#GD:velVec>GD: velVec</a>|<a href=#GD:posVec>GD: posVec</a>|<a href=#IM:calOfLandingTime>IM: calOfLandingTime</a>|<a href=#IM:calOfLandingDist>IM: calOfLandingDist</a>|<a href=#IM:offsetIM>IM: offsetIM</a>|<a href=#IM:messageIM>IM: messageIM</a>|<a href=#inputParams>FR: Input-Parameters</a>|<a href=#verifyParams>FR: Verify-Parameters</a>|<a href=#calcValues>FR: Calculate-Values</a>|<a href=#outputValues>FR: Output-Values</a>|<a href=#correct>NFR: Correct</a>|<a href=#verifiable>NFR: Verifiable</a>|<a href=#understandable>NFR: Understandable</a>|<a href=#reusable>NFR: Reusable</a>|<a href=#maintainable>NFR: Maintainable</a>|<a href=#portable>NFR: Portable</a>|\n",
    "|:--- |:--- |:--- |:--- |:--- |:--- |:--- |:--- |:--- |:--- |:--- |:--- |:--- |:--- |:--- |:--- |:--- |:--- |:--- |:--- |:--- |:--- |:--- |:--- |\n",
    "|<a href=#targetHit>GS: targetHit</a>||||||||||||||||||||||||\n",
    "|<a href=#inputParamss>FR: Input-Parameters</a>||||||||||||||||||||||||\n",
    "|<a href=#verifyParams>FR: Verify-Parameters</a>||||||||||||||||||||||||\n",
    "|<a href=#calcValues>FR: Calculate-Values</a>||||||||||X|X|X|X|||||||||||\n",
    "|<a href=#outputValues>FR: Output-Values</a>||||||||||||X|X|||||||||||\n",
    "|<a href=#correct>NFR: Correct</a>||||||||||||||||||||||||\n",
    "|<a href=#verifiable>NFR: Verifiable</a>||||||||||||||||||||||||\n",
    "|<a href=#understandable>NFR: Understandable</a>||||||||||||||||||||||||\n",
    "|<a href=#reusable>NFR: Reusable</a>||||||||||||||||||||||||\n",
    "|<a href=#maintainable>NFR: Maintainable</a>||||||||||||||||||||||||\n",
    "|<a href=#portable>NFR: Portable</a>||||||||||||||||||||||||"
   ]
  },
  {
   "cell_type": "markdown",
   "metadata": {},
   "source": [
    "<div align=\"center\">\n",
    "<b>\n",
    "Traceability Matrix Showing the Connections Between Requirements, Goal Statements and Other Items\n",
    "</b>\n",
    "</div>"
   ]
  },
  {
   "cell_type": "markdown",
   "metadata": {},
   "source": [
    "<div id=\"Sec:AuxConstants\">\n",
    "<h1>Values of Auxiliary Constants</h1>\n",
    "</div>"
   ]
  },
  {
   "cell_type": "markdown",
   "metadata": {},
   "source": [
    "This section contains the standard values that are used for calculations in Projectile."
   ]
  },
  {
   "cell_type": "markdown",
   "metadata": {},
   "source": [
    "|<div id=\"Table:TAuxConsts\"></div> Symbol|Description|Value|Unit|\n",
    "|:--- |:--- |:--- |:--- |\n",
    "|g|gravitational acceleration|9.8|m/s2|\n",
    "|ε|hit tolerance|2.0%|--|\n",
    "|π|ratio of circumference to diameter for any circle|3.14159265|--|\n"
   ]
  },
  {
   "cell_type": "markdown",
   "metadata": {},
   "source": [
    "<div align=\"center\">\n",
    "<b>\n",
    "Auxiliary Constants\n",
    "</b>\n",
    "</div>"
   ]
  },
  {
   "cell_type": "markdown",
   "metadata": {},
   "source": [
    "<div id=\"Sec:References\">\n",
    "<h1>References</h1>\n",
    "</div>"
   ]
  },
  {
   "cell_type": "markdown",
   "metadata": {},
   "source": [
    "<div id=\"hibbeler2004\">\n",
    "[1]: Hibbeler, R. C. <em>Engineering Mechanics: Dynamics</em>. Pearson Prentice Hall, 2004. Print.\n",
    "</div>"
   ]
  },
  {
   "cell_type": "markdown",
   "metadata": {},
   "source": [
    "<div id=\"accelerationWiki\">\n",
    "[2]: Wikipedia Contributors. <em>Acceleration</em>. June, 2019. <a href=\"https://en.wikipedia.org/wiki/Acceleration\">https://en.wikipedia.org/wiki/Acceleration</a>.\n",
    "</div>"
   ]
  },
  {
   "cell_type": "markdown",
   "metadata": {},
   "source": [
    "<div id=\"cartesianWiki\">\n",
    "[3]: Wikipedia Contributors. <em>Cartesian coordinate system</em>. June, 2019. <a href=\"https://en.wikipedia.org/wiki/Cartesian_coordinate_system\">https://en.wikipedia.org/wiki/Cartesian_coordinate_system</a>.\n",
    "</div>"
   ]
  },
  {
   "cell_type": "markdown",
   "metadata": {},
   "source": [
    "<div id=\"velocityWiki\">\n",
    "[4]: Wikipedia Contributors. <em>Velocity</em>. June, 2019. <a href=\"https://en.wikipedia.org/wiki/Velocity\">https://en.wikipedia.org/wiki/Velocity</a>.\n",
    "</div>"
   ]
  },
  {
   "cell_type": "code",
   "execution_count": 59,
   "metadata": {},
   "outputs": [],
   "source": [
    "from __future__ import print_function\n",
    "import sys\n",
    "import math"
   ]
  },
  {
   "cell_type": "code",
   "execution_count": 60,
   "metadata": {},
   "outputs": [],
   "source": [
    "class InputParameters:\n",
    "    None"
   ]
  },
  {
   "cell_type": "code",
   "execution_count": 61,
   "metadata": {},
   "outputs": [],
   "source": [
    "## \\brief Reads input from a file with the given file name\n",
    "# \\param filename No description given\n",
    "# \\param inParams No description given\n",
    "def get_input(filename, inParams):\n",
    "    infile = open(filename, \"r\")\n",
    "    infile.readline()\n",
    "    inParams.v_launch = float(infile.readline())\n",
    "    infile.readline()\n",
    "    inParams.angle = float(infile.readline())\n",
    "    infile.readline()\n",
    "    inParams.p_target = float(infile.readline())\n",
    "    infile.close()"
   ]
  },
  {
   "cell_type": "code",
   "execution_count": 62,
   "metadata": {},
   "outputs": [],
   "source": [
    "## \\brief Writes the output values to output.txt\n",
    "# \\param s output message as a string\n",
    "# \\param d_offset distance between the target position and the landing position\n",
    "def write_output(s, d_offset):\n",
    "    outputfile = open(\"output.txt\", \"w\")\n",
    "    print(\"s = \", end='', file=outputfile)\n",
    "    print(s, file=outputfile)\n",
    "    print(\"d_offset = \", end='', file=outputfile)\n",
    "    print(d_offset, file=outputfile)\n",
    "    outputfile.close()"
   ]
  },
  {
   "cell_type": "code",
   "execution_count": 63,
   "metadata": {},
   "outputs": [],
   "source": [
    "## \\brief Calculates flight duration\n",
    "# \\param inParams No description given\n",
    "def func_t_flight(inParams):\n",
    "    return ((2 * (inParams.v_launch * math.sin(inParams.angle))) / 9.8)\n",
    "\n",
    "## \\brief Calculates landing position\n",
    "# \\param inParams No description given\n",
    "def func_p_land(inParams):\n",
    "    return ((2 * ((inParams.v_launch ** 2) * (math.sin(inParams.angle) * math.cos(inParams.angle)))) / 9.8)\n",
    "\n",
    "## \\brief Calculates distance between the target position and the landing position\n",
    "# \\param inParams No description given\n",
    "# \\param p_land landing position\n",
    "def func_d_offset(inParams, p_land):\n",
    "    return (p_land - inParams.p_target)\n",
    "\n",
    "## \\brief Calculates output message as a string\n",
    "# \\param inParams No description given\n",
    "# \\param d_offset distance between the target position and the landing position\n",
    "def func_s(inParams, d_offset):\n",
    "    if ((math.fabs((d_offset / inParams.p_target)) < 2.0e-2)) :\n",
    "        return \"The target was hit.\"\n",
    "    elif ((d_offset < 0)) :\n",
    "        return \"The projectile fell short.\"\n",
    "    elif ((d_offset > 0)) :\n",
    "        return \"The projectile went long.\"\n",
    "    else :\n",
    "        raise Exception(\"Undefined case encountered in function func_s\")"
   ]
  },
  {
   "cell_type": "code",
   "execution_count": 64,
   "metadata": {},
   "outputs": [],
   "source": [
    "## \\brief Verifies that input values satisfy the physical constraints and software constraints\n",
    "# \\param inParams No description given\n",
    "def input_constraints(inParams):\n",
    "    if (not((inParams.v_launch > 0))) :\n",
    "        print(\"Warning: constraint violated\")\n",
    "    if (not(((0 < inParams.angle) and (inParams.angle < (3.14159265 / 2))))) :\n",
    "        print(\"Warning: constraint violated\")\n",
    "    if (not((inParams.p_target > 0))) :\n",
    "        print(\"Warning: constraint violated\")"
   ]
  },
  {
   "cell_type": "code",
   "execution_count": 65,
   "metadata": {},
   "outputs": [],
   "source": [
    "#main\n",
    "def main():\n",
    "    filename = \"input.txt\"\n",
    "    inParams = InputParameters()\n",
    "    get_input(filename, inParams)\n",
    "    input_constraints(inParams)\n",
    "    t_flight = func_t_flight(inParams)\n",
    "    p_land = func_p_land(inParams)\n",
    "    d_offset = func_d_offset(inParams, p_land)\n",
    "    s = func_s(inParams, d_offset)\n",
    "    write_output(s, d_offset)\n",
    "    print(\"s = \", s)\n",
    "    print(\"d_offset = \", d_offset)"
   ]
  },
  {
   "cell_type": "code",
   "execution_count": 66,
   "metadata": {},
   "outputs": [
    {
     "name": "stdout",
     "output_type": "stream",
     "text": [
      "s =  The target was hit.\n",
      "d_offset =  -0.18367346938994444\n"
     ]
    }
   ],
   "source": [
    "main()"
   ]
  },
  {
   "cell_type": "code",
   "execution_count": null,
   "metadata": {},
   "outputs": [],
   "source": []
  }
 ],
 "metadata": {
  "kernelspec": {
   "display_name": "Python 3",
   "language": "python",
   "name": "python3"
  },
  "language_info": {
   "codemirror_mode": {
    "name": "ipython",
    "version": 3
   },
   "file_extension": ".py",
   "mimetype": "text/x-python",
   "name": "python",
   "nbconvert_exporter": "python",
   "pygments_lexer": "ipython3",
   "version": "3.7.4"
  }
 },
 "nbformat": 4,
 "nbformat_minor": 2
}
