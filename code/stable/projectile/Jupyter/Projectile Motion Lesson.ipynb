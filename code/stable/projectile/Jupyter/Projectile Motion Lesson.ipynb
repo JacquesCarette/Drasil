{
 "cells": [
  {
   "cell_type": "markdown",
   "metadata": {},
   "source": [
    "# Notebook for Projectile Motion\n",
    "## W. Spencer Smith\n",
    "\n"
   ]
  },
  {
   "cell_type": "markdown",
   "metadata": {},
   "source": [
    "\n",
    "# Introduction\n",
    "<a id=\"Sec:Intro\"></a>\n",
    "\n",
    "One of the first topics typically taught when students are introduced to the study of dynamics is projectile motion. Projectile motion is a good starting point for two reasons:\n",
    "\n",
    "- The model developed is relatively simple because it only involves kinematic quantities, not kinetics. Kinematics focuses on the geometrics aspects of motion while kinetics introduces the concept of forces.\n",
    "- Projectile motion has practical applications for tracking the motion of launched or thrown objects.\n",
    "\n",
    "The presentation below is based on Section 12.6 ( Motion of a Projectile ) from the classic Hibbler text \"Engineering Mechanics Dynamnics, 10th edition\".\n",
    "\n"
   ]
  },
  {
   "cell_type": "markdown",
   "metadata": {},
   "source": [
    "\n",
    "# Body\n",
    "<a id=\"Sec:Body\"></a>\n",
    "\n",
    "## Review\n",
    "<a id=\"Sec:Review\"></a>\n",
    "\n",
    "As covered previously, the equations relating velocity ($v$), position ($p$) and time ($t$) for motion in one dimension with constant acceleration ($a^c$) are as follows:\n",
    "$$v={v^{\\text{i}}}+{a^{c}} t$$\n",
    "$$p={p^{\\text{i}}}+{v^{\\text{i}}} t+\\frac{{a^{c}} t^{2}}{2}$$\n",
    "$$v^{2}={v^{\\text{i}}}^{2}+2 {a^{c}} \\left(p-{p^{\\text{i}}}\\right)$$\n",
    "\n",
    "where $v^i$ and $p^i$ are the initial velocity and position, respectively.\n",
    "\n",
    "Only two of these equations are independent, since the third equation can always be derived from the other two. [ [EqnB:rectNoTime](#Equation:rectNoTime) is not in the Projectile SRS].\n",
    "\n",
    "## Main Idea\n",
    "<a id=\"Sec:MainIdea\"></a>\n",
    "\n",
    "The free flight motion of a projectile is often studied in terms of its rectangular components, since the projectile's acceleration always acts in the vertical direciton. To illustrate the kinematic analysis, consider a  projectile launched at point ($x$, $y$) as shown in [Fig:CoordSystAndAssumpts](#Figure:CoordSystAndAssumpts). The path is defined in the $x$ - $y$ plane such that the initial velocity is $v^i$, having components $u_i$ and $w_i$ When air resistance is neglected, the only force acting on the projectile is its weight, which causes the projectile to have a *constant downward acceleration* of approximately $a^c = g = 9.81$ $\\frac{m}{s^2}$ or $g = 32.2$ $\\frac{ft}{s^2}$.\n",
    "<a id=\"Figure:CoordSystAndAssumpts\"></a>\n",
    "<figure>\n",
    "<img src=\"../../../datafiles/Projectile/CoordSystAndAssumpts.png\" alt=\"The coordinate system\" >\n",
    "</figure>\n",
    "\n",
    "The equations for rectilinear kinematics given above [EqnB:rectVel](#Equation:rectVel) are in one dimension. These equations can be applied for both the vertical motion and the horizontal motion, as follows:\n",
    "\n",
    "### Horizontal Motion\n",
    "<a id=\"Sec:HorizontalMotion\"></a>\n",
    "\n",
    "For projectile motion the acceleration in the horizontal direction is and equal to zero ($a_x = 0$). This value can be substituted in the equations for constant acceleration given above (ref) to yield the following:\n",
    "\n",
    "From Equation [EqnB:rectVel](#Equation:rectVel): $v_x = u_i$ From Equation [EqnB:rectPos](#Equation:rectPos): $p_x = p_x^i + u_it$ From Equation [EqnB:rectNoTime](#Equation:rectNoTime): $v_x = u_i$\n",
    "\n",
    "Since the acceleration in the $x$-direction ($a_x$) is zero, the horizontal component of  velocity always remains constant during motion. In addition to knowing this, we have one more equation.\n",
    "\n",
    "### Vertical Motion\n",
    "<a id=\"Sec:VerticalMotion\"></a>\n",
    "\n",
    "Since the positive $y$-axis is directed upward, the acceleration in the vertical direction is $a_y = -g$. This value can be substituted in the equations for constant acceleration given above (ref) to yield the following:\n",
    "\n",
    "From Equation [EqnB:rectVel](#Equation:rectVel): $v_y = w_i - gt$ From Equation [EqnB:rectPos](#Equation:rectPos): $p_y = p_y^i + w_it - \\frac{gt^2}{2}$ From Equation [EqnB:rectNoTime](#Equation:rectNoTime): $v_y^2 = w_i^2 - 2g(p_y - p_y^i)$\n",
    "\n",
    "Recall that the last equation can be formulated on the basis of eliminating the time $t$ between the first two equations, and therefore only  two of the above three equations are independent of one another.\n",
    "\n",
    "### Summary\n",
    "<a id=\"Sec:Summary\"></a>\n",
    "\n",
    "In addition to knowing that the horizontal component of velocity is constant [Hibbler doesn't say this, but it seems necessary for completeness], problems involving the motion of a projectile can have at most three unknowns since only three independent equations can be written: that is, one equation in the horizontal direction and two in the vertical direction. Once $v_x$ and $v_y$ are obtained, the resultant velocity $v$ which is always tangent to the path, is defined by the vector sum as shown in [Fig:CoordSystAndAssumpts](#Figure:CoordSystAndAssumpts).\n",
    "\n",
    "## Method and Analyses\n",
    "<a id=\"Sec:MethsAndAnls\"></a>\n",
    "\n",
    "Free-flight projectile motion problems can be solved using the following procedure.\n",
    "\n",
    "### Coordinate System\n",
    "<a id=\"Sec:CoordinateSystem\"></a>\n",
    "\n",
    "- Establish the fixed $x$, $y$ coordinate axes and sketch the trajectory of the particle. Between any *two points* on the path specify the given problem data and the *three unknowns*. In all cases the acceleration of gravity acts downward. The particle's initial and final velocities should be represented in terms of their $x$ and $y$ components.\n",
    "- Remember that positive and negative position, velocity , and acceleration components always act in accordance with their associated coordinate directions.\n",
    "- The two points that are selected should be significant points where something about the motion of the particle is known. Potential significant points include the initial point of launching the projectile and the final point where it lands. The landing point often has a known $y$ value.\n",
    "\n",
    "### Kinematics\n",
    "<a id=\"Sec:Kinematic\"></a>\n",
    "\n",
    "- Depending upon the known data and what is to be determined, a choice should be made as to which three of the following four equations should be applied between the two points on the path to obtain the most direct solution to the problem.\n",
    "\n",
    "### Horizontal Motion\n",
    "<a id=\"Sec:HorizontalMotion\"></a>\n",
    "\n",
    "- The *velocity* in the horizontal or $x$ direction is *constant*, i.e., $v_x = u_i$ and $p_x = p_x^i + u_it$.\n",
    "\n",
    "### Vertical Motion\n",
    "<a id=\"Sec:VerticalMotion\"></a>\n",
    "\n",
    "- In the vertical or $y$ direction *only two* of the following three equations can be used for solution.\n",
    "- For example, if the particle's final velocity $v_y$ is not needed, then the first and third of these questions (for $y$) will not be useful.\n",
    "\n"
   ]
  },
  {
   "cell_type": "markdown",
   "metadata": {},
   "source": [
    "\n",
    "# References\n",
    "<a id=\"Sec:References\"></a>\n",
    "\n"
   ]
  },
  {
   "cell_type": "markdown",
   "metadata": {},
   "source": [
   ]
  }
 ],
 "metadata": {
  "kernelspec": {
   "display_name": "Python 3",
   "language": "python",
   "name": "python3"
  },
  "language_info": {
   "codemirror_mode": {
    "name": "ipython",
    "version": 3
   },
   "file_extension": ".py",
   "mimetype": "text/x-python",
   "name": "python",
   "nbconvert_exporter": "python",
   "pygments_lexer": "ipython3",
   "version": "3.9.1"
  }
 },
 "nbformat": 4,
 "nbformat_minor": 4
}
