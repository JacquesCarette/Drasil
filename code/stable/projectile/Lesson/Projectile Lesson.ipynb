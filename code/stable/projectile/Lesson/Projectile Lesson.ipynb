{
 "cells": [
  {
   "cell_type": "markdown",
   "metadata": {},
   "source": [

    "# Notebook for Projectile Motion Lesson\n",
    "## W. Spencer Smith\n",
    "\n"
   ]
  },
  {
   "cell_type": "markdown",
   "metadata": {},
   "source": [
    "# Learning Objectives\n",
                                                                      "<a id=\"Sec:LearnObj\"></a>\n",    "\n"
   ]
  },
  {
   "cell_type": "markdown",
   "metadata": {},
   "source": [
    "- Derive kinematic equations for 2D projectile motion from kinematic equations from 1D rectilinear motion\n",
                                                                      "- Identify the assumptions required for the projectile motion equations to hold:\n",
                                                                      " - Air resistance is neglected\n",
                                                                      " - Gravitational acceleration acts downward and is constant, regardless of altitude\n",
                                                                      "- Solve any given (well-defined) free-flight projectile motion problems by:\n",
                                                                      " - Able to select an appropriate Cartesian coordinate system to simplify the problem as much as possible\n",
                                                                      " - Able to identify the known variables\n",
                                                                      " - Able to identify the unknown variables\n",
                                                                      " - Able to write projectile motion equations for the given problem\n",
                                                                      " - Able to solve the projectile motion equations for the unknown quantities\n",    "\n"
   ]
  },
  {
   "cell_type": "markdown",
   "metadata": {},
   "source": [
    "# Review\n",
                                                                      "<a id=\"Sec:Review\"></a>\n",    "\n"
   ]
  },
  {
   "cell_type": "markdown",
   "metadata": {},
   "source": [
    "## Rectilinear Kinematics: Continuous Motion\n",    "\n"
   ]
  },
  {
   "cell_type": "markdown",
   "metadata": {},
   "source": [
    "As covered previously, the equations relating velocity ($v$), position ($p$) and time ($t$) for motion in one dimension with constant acceleration ($a^c$) are as follows:\n",    "\n"
   ]
  },
  {
   "cell_type": "markdown",
   "metadata": {},
   "source": [
    "$$v={v^{\\text{i}}}+{a^{c}} t$$\n",    "\n"
   ]
  },
  {
   "cell_type": "markdown",
   "metadata": {},
   "source": [
    "$$p={p^{\\text{i}}}+{v^{\\text{i}}} t+\\frac{{a^{c}} t^{2}}{2}$$\n",    "\n"
   ]
  },
  {
   "cell_type": "markdown",
   "metadata": {},
   "source": [
    "$$v^{2}={v^{\\text{i}}}^{2}+2 {a^{c}} \\left(p-{p^{\\text{i}}}\\right)$$\n",    "\n"
   ]
  },
  {
   "cell_type": "markdown",
   "metadata": {},
   "source": [
    "where $v^i$ and $p^i$ are the initial velocity and position ,respectively.\n",    "\n"
   ]
  },
  {
   "cell_type": "markdown",
   "metadata": {},
   "source": [
    "Only two of these equations are independent, since the third equation can always be derived from the other two.\n",    "\n"
   ]
  },
  {
   "cell_type": "markdown",
   "metadata": {},
   "source": [
    "# Case Problem\n",
                                                                      "<a id=\"Sec:CaseProb\"></a>\n",    "\n"
   ]
  },
  {
   "cell_type": "markdown",
   "metadata": {},
   "source": [
    "# Motion of a Projectile\n",    "\n"
   ]
  },
  {
   "cell_type": "markdown",
   "metadata": {},
   "source": [
    "The free flight motion of a projectile is often studied in terms of its rectangular components, since the projectile's acceleration always acts in the vertical direciton. To illustrate the kinematic analysis, consider a  projectile launched at point ($x$, $y$) as shown in [Fig:CoordSystAndAssumpts](#Figure:CoordSystAndAssumpts). The path is defined in the $x$ - $y$ plane such that the initial velocity is $v^i$, having components $u_i$ and $w_i$ When air resistance is neglected, the only force acting on the projectile is its weight, which causes the projectile to have a *constant downward acceleration* of approximately $a^c = g = 9.81$ $\\frac{m}{s^2}$ or $g = 32.2$ $\\frac{ft}{s^2}$.\n",    "\n"
   ]
  },
  {
   "cell_type": "markdown",
   "metadata": {},
   "source": [
    "<a id=\"Figure:CoordSystAndAssumpts\"></a>\n",
                                                                      "<figure>\n",
                                                                      "<img src=\"../../../datafiles/Projectile/CoordSystAndAssumpts.png\" alt=\"The coordinate system\" >\n",
                                                                      "</figure>\n",    "\n"
   ]
  },
  {
   "cell_type": "markdown",
   "metadata": {},
   "source": [
    "The equations for rectilinear kinematics given above [EqnB:rectVel](#Equation:rectVel) are in one dimension. These equations can be applied for both the vertical motion and the horizontal motion, as follows:\n",    "\n"
   ]
  },
  {
   "cell_type": "markdown",
   "metadata": {},
   "source": [
    "## Horizontal Motion\n",    "\n"
   ]
  },
  {
   "cell_type": "markdown",
   "metadata": {},
   "source": [
    "For projectile motion the acceleration in the horizontal direction is and equal to zero ($a_x = 0$). This value can be substituted in the equations for constant acceleration given above (ref) to yield the following:\n",    "\n"
   ]
  },
  {
   "cell_type": "markdown",
   "metadata": {},
   "source": [
    "From equation [EqnB:rectVel](#Equation:rectVel): $v_x = v_x^i$\n",    "\n"
   ]
  },
  {
   "cell_type": "markdown",
   "metadata": {},
   "source": [
    "From equation [EqnB:rectPos](#Equation:rectPos): $p_x = p_x^i + v_x^it$\n",    "\n"
   ]
  },
  {
   "cell_type": "markdown",
   "metadata": {},
   "source": [
    "From equation [EqnB:rectNoTime](#Equation:rectNoTime): $v_x = v_x^i$\n",    "\n"
   ]
  },
  {
   "cell_type": "markdown",
   "metadata": {},
   "source": [
    "Since the acceleration in the $x$-direction ($a_x$) is zero, the horizontal component of  velocity always remains constant during motion. In addition to knowing this, we have one more equation.\n",    "\n"
   ]
  },
  {
   "cell_type": "markdown",
   "metadata": {},
   "source": [
    "## Vertical Motion\n",    "\n"
   ]
  },
  {
   "cell_type": "markdown",
   "metadata": {},
   "source": [
    "Since the positive $y$-axis is directed upward, the acceleration in the vertical direction is $a_y = -g$. This value can be substituted in the equations for constant acceleration given above (ref) to yield the following:\n",    "\n"
   ]
  },
  {
   "cell_type": "markdown",
   "metadata": {},
   "source": [
    "From equation [EqnB:rectVel](#Equation:rectVel): $v_y = v_y^i - gt$\n",    "\n"
   ]
  },
  {
   "cell_type": "markdown",
   "metadata": {},
   "source": [
    "From equation [EqnB:rectPos](#Equation:rectPos): $p_y = p_y^i + v_y^it - \\frac{gt^2}{2}$\n",    "\n"
   ]
  },
  {
   "cell_type": "markdown",
   "metadata": {},
   "source": [
    "From equation [EqnB:rectNoTime](#Equation:rectNoTime): $v_y^2 = v_y^i^2 - 2g(p_y - p_y^i)$\n",    "\n"
   ]
  },
  {
   "cell_type": "markdown",
   "metadata": {},
   "source": [
    "Recall that the last equation can be formulated on the basis of eliminating the time $t$ between the first two equations, and therefore only  two of the above three equations are independent of one another.\n",    "\n"
   ]
  },
  {
   "cell_type": "markdown",
   "metadata": {},
   "source": [
    "## Summary\n",    "\n"
   ]
  },
  {
   "cell_type": "markdown",
   "metadata": {},
   "source": [
    "In addition to knowing that the horizontal component of velocity is constant [Hibbler doesn't say this, but it seems necessary for completeness], problems involving the motion of a projectile can have at most three unknowns since only three independent equations can be written: that is, one equation in the horizontal direction and two in the vertical direction. Once $v_x$ and $v_y$ are obtained, the resultant velocity $v$ which is always tangent to the path, is defined by the vector sum as shown in [Fig:CoordSystAndAssumpts](#Figure:CoordSystAndAssumpts).\n",    "\n"
   ]
  },
  {
   "cell_type": "markdown",
   "metadata": {},
   "source": [
    "## Procedure for Analysis\n",    "\n"
   ]
  },
  {
   "cell_type": "markdown",
   "metadata": {},
   "source": [
    "Free-flight projectile motion problems can be solved using the following procedure.\n",    "\n"
   ]
  },
  {
   "cell_type": "markdown",
   "metadata": {},
   "source": [
    "### Step 1: Coordinate System\n",    "\n"
   ]
  },
  {
   "cell_type": "markdown",
   "metadata": {},
   "source": [
    "- Establish the fixed $x$, $y$ coordinate axes and sketch the trajectory of the particle. Between any *two points* on the path specify the given problem data and the *three unknowns*. In all cases the acceleration of gravity acts downward. The particle's initial and final velocities should be represented in terms of their $x$ and $y$ components.\n",
                                                                      "- Remember that positive and negative position, velocity , and acceleration components always act in accordance with their associated coordinate directions.\n",
                                                                      "- The two points that are selected should be significant points where something about the motion of the particle is known. Potential significant points include the initial point of launching the projectile and the final point where it lands. The landing point often has a known $y$ value.\n",
                                                                      "- The variables in the equations may need to be changed to match the notation of the specific problem. For instance, a distinction may need to be made between the $x$ coordinate of points $A$ and $B$ via notation like.\n",    "\n"
   ]
  },
  {
   "cell_type": "markdown",
   "metadata": {},
   "source": [
    "### Step 2: Identify Knowns\n",    "\n"
   ]
  },
  {
   "cell_type": "markdown",
   "metadata": {},
   "source": [
    "Using the notation for the problem in question, write out the known variables and their values. The known variables will be a subset of the following: $p_x^i$, $p_x$, $p_y^i$, $p_y$, $v_x^i$, $v_x$, $v_y^i$, $v_y$ and $t$. The knowns should be written in the notation adopted for the particular problem.\n",    "\n"
   ]
  },
  {
   "cell_type": "markdown",
   "metadata": {},
   "source": [
    "### Step 3: Identify Unknowns\n",    "\n"
   ]
  },
  {
   "cell_type": "markdown",
   "metadata": {},
   "source": [
    "Each problem will have at most 4 unknowns that need to be determined, selected from the variables listed in the Step 2 that are not known. The number of relevant unknowns will usually be less than 4, since questions will often focus on one or two unknowns. As an example, the equation that horizontal velocity is constant is so trivial that most problems will not look for this as an unknown. The unknowns should be written in the notation adopted for the particular problem.\n",    "\n"
   ]
  },
  {
   "cell_type": "markdown",
   "metadata": {},
   "source": [
    "### Step 4: Kinematic Equations\n",    "\n"
   ]
  },
  {
   "cell_type": "markdown",
   "metadata": {},
   "source": [
    "Depending upon the known data and what is to be determined, a choice should be made as to which four of the following five equations should be applied between the two points on the path to obtain the most direct solution to the problem.\n",    "\n"
   ]
  },
  {
   "cell_type": "markdown",
   "metadata": {},
   "source": [
    "#### Step 4.1: Horizontal Motion\n",    "\n"
   ]
  },
  {
   "cell_type": "markdown",
   "metadata": {},
   "source": [
    "From equation [EqnB:rectVel](#Equation:rectVel): $v_x = v_x^i$\n",    "\n"
   ]
  },
  {
   "cell_type": "markdown",
   "metadata": {},
   "source": [
    "(The *velocity* in the horizontal or $x$ direction is *constant*)\n",    "\n"
   ]
  },
  {
   "cell_type": "markdown",
   "metadata": {},
   "source": [
    "From equation [EqnB:rectPos](#Equation:rectPos): $p_x = p_x^i + v_x^it$\n",    "\n"
   ]
  },
  {
   "cell_type": "markdown",
   "metadata": {},
   "source": [
    "#### Step 4.2: Vertical Motion\n",    "\n"
   ]
  },
  {
   "cell_type": "markdown",
   "metadata": {},
   "source": [
    "In the vertical or $y$ direction *only two* of the following three equations (using $a_y = -g$) can be used for solution. (The sign of $g$ will change to positive if the positive $y$ axis is downward.) For example, if the particle's final velocity $v_y$ is not needed, then the first and third of these questions (for $y$) will not be useful.\n",    "\n"
   ]
  },
  {
   "cell_type": "markdown",
   "metadata": {},
   "source": [
    "From equation [EqnB:rectVel](#Equation:rectVel): $v_y = v_y^i - gt$\n",    "\n"
   ]
  },
  {
   "cell_type": "markdown",
   "metadata": {},
   "source": [
    "From equation [EqnB:rectPos](#Equation:rectPos): $p_y = p_y^i + v_y^it - \\frac{gt^2}{2}$\n",    "\n"
   ]
  },
  {
   "cell_type": "markdown",
   "metadata": {},
   "source": [
    "From equation [EqnB:rectNoTime](#Equation:rectNoTime): $v_y^2 = v_y^i^2 - 2g(p_y - p_y^i)$\n",    "\n"
   ]
  },
  {
   "cell_type": "markdown",
   "metadata": {},
   "source": [
    "### Step 5: Solve for Unknowns\n",    "\n"
   ]
  },
  {
   "cell_type": "markdown",
   "metadata": {},
   "source": [
    "Use the equations from Step 4, together with the known values from Step 2 to find the unknown values from Step 3. We can do this systematically by going through each equation and determining how many unknowns are in that equation. Any equations with one unknown can be used to solve for that unknown directly.\n",    "\n"
   ]
  },
  {
   "cell_type": "markdown",
   "metadata": {},
   "source": [
    "# Example\n",
                                                                      "<a id=\"Sec:Example\"></a>\n",    "\n"
   ]
  },
  {
   "cell_type": "markdown",
   "metadata": {},
   "source": [
    "A sack slides off the ramp, shown in Figure. We can ignore the physics of the sack sliding down the ramp and just focus on its exit velocity from the ramp. There is initially no vertical component of velocity and the horizontal velocity is:\n",    "\n"
   ]
  },
  {
   "cell_type": "code",
   "execution_count": null,
   "metadata": {},
   "outputs": [],
   "source": [    "horiz_velo = 17\n"
   ]
  },
  {
   "cell_type": "markdown",
   "metadata": {},
   "source": [
    "The height of the ramp from the floor is\n",    "\n"
   ]
  },
  {
   "cell_type": "code",
   "execution_count": null,
   "metadata": {},
   "outputs": [],
   "source": [    "h = 6\n"
   ]
  },
  {
   "cell_type": "markdown",
   "metadata": {},
   "source": [
    "Task: Determine the time needed for the sack to strike the floor and the range $R$ where sacks begin to pile up. The acceleration due to gravity $g$ is assumed to have the following value.\n",    "\n"
   ]
  },
  {
   "cell_type": "code",
   "execution_count": null,
   "metadata": {},
   "outputs": [],
   "source": [    "g = 9.81\n"
   ]
  },
  {
   "cell_type": "markdown",
   "metadata": {},
   "source": [
    "# References\n",
                                                                      "<a id=\"Sec:References\"></a>\n",    "\n"
   ]
  },
  {
   "cell_type": "markdown",
   "metadata": {},
   "source": [
    "\n"
   ]
  },
  {
   "cell_type": "markdown",
   "metadata": {},
   "source": [

    "\n"
   ]
  }
 ],
 "metadata": {
  "kernelspec": {
   "display_name": "Python 3",
   "language": "python",
   "name": "python3"
  },
  "language_info": {
   "codemirror_mode": {
    "name": "ipython",
    "version": 3
   },
   "file_extension": ".py",
   "mimetype": "text/x-python",
   "name": "python",
   "nbconvert_exporter": "python",
   "pygments_lexer": "ipython3",
   "version": "3.9.1"
  }
 },
 "nbformat": 4,
 "nbformat_minor": 4
}
