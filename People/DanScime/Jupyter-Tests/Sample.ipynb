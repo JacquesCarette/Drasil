{
 "cells": [
  {
   "cell_type": "markdown",
   "metadata": {},
   "source": [
    "# Software Requirements Specification for Chipmunk2D\n",
    "## Alex Halliwushka and Luthfi Mawarid"
   ]
  },
  {
   "cell_type": "markdown",
   "metadata": {},
   "source": [
    "# Reference Material\n",
    "This section records information for easy reference.\n",
    "[figureeeee](#Figure:sysCtxDiag)"
   ]
  },
  {
   "cell_type": "markdown",
   "metadata": {},
   "source": [
    "## Table of Units\n",
    "The unit system used throughout is SI (Système International d'Unités). In addition to the basic units, several derived units are also used. For each unit, [Tab: ToU](#Table:ToU\n",
    ") lists the symbol, a description and the SI name.\n",
    "<div id=\"Table:ToU\"><table class=\"Table\"><tr><th>Symbol</th><th>Description</th><th>SI Name</th></tr><tr><td>J</td><td>energy</td><td>joule</td></tr><tr><td>kg</td><td>mass</td><td>kilogram</td></tr><tr><td>m</td><td>length</td><td>metre</td></tr><tr><td>N</td><td>force</td><td>newton</td></tr><tr><td>rad</td><td>angle</td><td>radian</td></tr><tr><td>s</td><td>time</td><td>second</td></tr></table></div>"
   ]
  },
  {
   "cell_type": "markdown",
   "metadata": {},
   "source": [
     "<div id=\"Figure:sysCtxDiag\"><figure><img src=\"sysctx.png\" alt=\"System Context\"><figcaption>System Context</figcaption></figure></div>"
   ]
  },
  {
   "cell_type": "markdown",
   "metadata": {},
   "source": [
    "![title](sysctx.png)"
   ]
  }
 ],
 "metadata": {
  "kernelspec": {
   "display_name": "Python 3",
   "language": "python",
   "name": "python3"
  },
  "language_info": {
   "codemirror_mode": {
    "name": "ipython",
    "version": 3
   },
   "file_extension": ".py",
   "mimetype": "text/x-python",
   "name": "python",
   "nbconvert_exporter": "python",
   "pygments_lexer": "ipython3",
   "version": "3.7.4"
  }
 },
 "nbformat": 4,
 "nbformat_minor": 2
}
